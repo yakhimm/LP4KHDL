{
 "cells": [
  {
   "cell_type": "markdown",
   "metadata": {},
   "source": [
    "# < NHÓM 05 > LẬP TRÌNH CHO KHOA HỌC DỮ LIỆU\n",
    "## 1. Hiểu dữ liệu\n",
    "- Dữ liệu chính là điểm thi đại học của các học sinh THPT.\n",
    "- Dữ liệu dòng: \n",
    "    - Ý nghĩa của mỗi dòng:\n",
    "    - Có vấn đề các dòng có ý nghĩa khác nhau không?\n",
    "- Dữ liệu cột:\n",
    "    - Ý nghĩa của mỗi cột:\n",
    "    - Mỗi cột hiện có kiểu dữ liệu là: \n",
    "    - Cột có kiểu dữ liệu không phù hợp, có thể xử lý tiếp không ?\n",
    "## 2. Thu thập dữ liệu:\n",
    "- Nguồn dữ liệu: từ một repo github\n",
    "- Dạng input đầu vào: file csv\n",
    "- Số lượng input đầu vào: 4 file csv\n",
    "- Sự khác nhau giữa các input: **Có file khác nhau về số cột** "
   ]
  },
  {
   "cell_type": "markdown",
   "metadata": {},
   "source": [
    "# THU THẬP DỮ LIỆU\n",
    "- Để tiến hành thu thập dữ liệu, như đã nêu ở trên, các input có sự khác nhau nên ta phải tìm input khác (ở đây input data 2021, 2022 là khác so với các input data còn lại).\n",
    "- Sau đó ta sẽ tiến hành thu thập dữ liệu và đưa về thành 1 data duy nhất (từ 4 input ta sẽ đưa về thành 1 input để tiền xử lý)\n",
    "- Ta sẽ thực hiện theo các bước sau:\n",
    "    - Bước 1: Đọc file input của 4 năm \n",
    "    - Bước 2: Xóa các cột dư thừa \n",
    "    - Bước 3: Thêm một cột mới để định danh cho file đó\n",
    "    - Bước 4: Nối các dữ liệu lại với nhau và xuất thành 1 file csv mới."
   ]
  },
  {
   "cell_type": "markdown",
   "metadata": {},
   "source": [
    "Cùng làm thôi..."
   ]
  },
  {
   "cell_type": "code",
   "execution_count": 57,
   "metadata": {},
   "outputs": [],
   "source": [
    "import pandas as pd\n",
    "import numpy as np"
   ]
  },
  {
   "cell_type": "markdown",
   "metadata": {},
   "source": [
    "## Bước 1:\n",
    "- Chúng ta sẽ đọc từng file dữ liệu đã có sẵn.\n",
    "- Các file được đặt trong thư mục: ./score_college_exam_data\n",
    "- Các file sẽ có tên theo định dạng: <năm lấy dữ liệu>.csv\n",
    "- Sau khi đọc, chúng ta lưu data dưới dạng một DataFrame có tên là year_<năm>_df"
   ]
  },
  {
   "cell_type": "code",
   "execution_count": 58,
   "metadata": {},
   "outputs": [],
   "source": [
    "# shape = (n, 10) // n dòng, 10 cột là shape đúng\n",
    "def open_data(year):\n",
    "    filepath = './score_college_exam_data/' + year + '.csv'\n",
    "    year_df = pd.read_csv(filepath)\n",
    "    return year_df\n",
    "\n",
    "year_2019_df = open_data('2019')\n",
    "year_2020_df = open_data('2020')\n",
    "year_2021_df = open_data('2021')\n",
    "year_2022_df = open_data('2022')"
   ]
  },
  {
   "cell_type": "markdown",
   "metadata": {},
   "source": [
    "## Bước 2:\n",
    "- Xóa dữ liệu là các cột của df sao cho mỗi df có shape là (n, 10)"
   ]
  },
  {
   "cell_type": "code",
   "execution_count": 59,
   "metadata": {},
   "outputs": [],
   "source": [
    "def drop_col(df, key):\n",
    "    if df.shape[1] != 10:\n",
    "        result = df.drop(df.keys()[key], axis = 1)\n",
    "    else:\n",
    "        return df\n",
    "    return result\n",
    "\n",
    "# Năm 2019:\n",
    "key_del = [0, 5]\n",
    "key_del_2021 = [0, 2, 9, 10, 14, 15, 16, 17, 18, 19]\n",
    "\n",
    "# year_2019_df.drop(key_del[:2], axis = 1)\n",
    "year_2019_df = drop_col(year_2019_df, key_del)\n",
    "year_2020_df = drop_col(year_2020_df, key_del)\n",
    "year_2021_df = drop_col(year_2021_df, key_del_2021)"
   ]
  },
  {
   "cell_type": "markdown",
   "metadata": {},
   "source": [
    "- Sau khi xóa các cột dư thừa thì ta sẽ sắp xếp các cột dữ liệu theo dạng chuẩn (tự quy định)"
   ]
  },
  {
   "cell_type": "code",
   "execution_count": 60,
   "metadata": {},
   "outputs": [],
   "source": [
    "key_truth = ['sbd', 'Toan', 'Van', 'Ngoai_ngu', 'Li', 'Hoa', 'Sinh', 'Su', 'Dia', 'GDCD']\n",
    "key_2021_truth = ['id', 'mathematics_score', 'literature_score', 'foreign_language_score',\n",
    "                 'physics_score', 'chemistry_score', 'biology_score',\n",
    "\t            'history_score', 'geography_score',\t'civic_education_score']\n",
    "\n",
    "year_2019_df = year_2019_df[key_truth]\n",
    "year_2020_df = year_2020_df[key_truth]\n",
    "year_2021_df = year_2021_df[key_2021_truth]"
   ]
  },
  {
   "cell_type": "markdown",
   "metadata": {},
   "source": [
    "- Format các dữ liệu khác khi có tên cột chưa chuẩn (Để khi nối cột sẽ không bị thay đổi chiều dữ liệu)."
   ]
  },
  {
   "cell_type": "code",
   "execution_count": 67,
   "metadata": {},
   "outputs": [],
   "source": [
    "year_2021_df.columns = key_truth\n",
    "year_2022_df.columns = key_truth"
   ]
  },
  {
   "cell_type": "code",
   "execution_count": 68,
   "metadata": {},
   "outputs": [],
   "source": []
  },
  {
   "cell_type": "markdown",
   "metadata": {},
   "source": [
    "## Bước 3:\n",
    "Để phân biệt giữa các năm thì chúng ta sẽ thêm 1 cột mới vào year_<năm>_df với tên cột là 'year', đặt ở vị trí đầu của df và dữ liệu là năm đó. "
   ]
  },
  {
   "cell_type": "code",
   "execution_count": 69,
   "metadata": {},
   "outputs": [
    {
     "data": {
      "text/html": [
       "<div>\n",
       "<style scoped>\n",
       "    .dataframe tbody tr th:only-of-type {\n",
       "        vertical-align: middle;\n",
       "    }\n",
       "\n",
       "    .dataframe tbody tr th {\n",
       "        vertical-align: top;\n",
       "    }\n",
       "\n",
       "    .dataframe thead th {\n",
       "        text-align: right;\n",
       "    }\n",
       "</style>\n",
       "<table border=\"1\" class=\"dataframe\">\n",
       "  <thead>\n",
       "    <tr style=\"text-align: right;\">\n",
       "      <th></th>\n",
       "      <th>Year</th>\n",
       "      <th>sbd</th>\n",
       "      <th>Toan</th>\n",
       "      <th>Van</th>\n",
       "      <th>Ngoai_ngu</th>\n",
       "      <th>Li</th>\n",
       "      <th>Hoa</th>\n",
       "      <th>Sinh</th>\n",
       "      <th>Su</th>\n",
       "      <th>Dia</th>\n",
       "      <th>GDCD</th>\n",
       "    </tr>\n",
       "  </thead>\n",
       "  <tbody>\n",
       "    <tr>\n",
       "      <th>0</th>\n",
       "      <td>2019</td>\n",
       "      <td>24008611</td>\n",
       "      <td>8.2</td>\n",
       "      <td>8.00</td>\n",
       "      <td>7.6</td>\n",
       "      <td>NaN</td>\n",
       "      <td>NaN</td>\n",
       "      <td>NaN</td>\n",
       "      <td>8.25</td>\n",
       "      <td>7.75</td>\n",
       "      <td>8.75</td>\n",
       "    </tr>\n",
       "    <tr>\n",
       "      <th>1</th>\n",
       "      <td>2019</td>\n",
       "      <td>51000032</td>\n",
       "      <td>8.6</td>\n",
       "      <td>6.17</td>\n",
       "      <td>8.0</td>\n",
       "      <td>8.25</td>\n",
       "      <td>4.5</td>\n",
       "      <td>6.0</td>\n",
       "      <td>NaN</td>\n",
       "      <td>NaN</td>\n",
       "      <td>NaN</td>\n",
       "    </tr>\n",
       "    <tr>\n",
       "      <th>2</th>\n",
       "      <td>2019</td>\n",
       "      <td>51000005</td>\n",
       "      <td>5.2</td>\n",
       "      <td>4.75</td>\n",
       "      <td>NaN</td>\n",
       "      <td>NaN</td>\n",
       "      <td>NaN</td>\n",
       "      <td>NaN</td>\n",
       "      <td>4.00</td>\n",
       "      <td>4.25</td>\n",
       "      <td>5.75</td>\n",
       "    </tr>\n",
       "    <tr>\n",
       "      <th>3</th>\n",
       "      <td>2019</td>\n",
       "      <td>51000021</td>\n",
       "      <td>4.4</td>\n",
       "      <td>4.50</td>\n",
       "      <td>NaN</td>\n",
       "      <td>NaN</td>\n",
       "      <td>NaN</td>\n",
       "      <td>NaN</td>\n",
       "      <td>2.25</td>\n",
       "      <td>4.75</td>\n",
       "      <td>5.00</td>\n",
       "    </tr>\n",
       "    <tr>\n",
       "      <th>4</th>\n",
       "      <td>2019</td>\n",
       "      <td>51000013</td>\n",
       "      <td>5.8</td>\n",
       "      <td>6.00</td>\n",
       "      <td>4.4</td>\n",
       "      <td>NaN</td>\n",
       "      <td>NaN</td>\n",
       "      <td>NaN</td>\n",
       "      <td>7.75</td>\n",
       "      <td>8.25</td>\n",
       "      <td>7.50</td>\n",
       "    </tr>\n",
       "    <tr>\n",
       "      <th>...</th>\n",
       "      <td>...</td>\n",
       "      <td>...</td>\n",
       "      <td>...</td>\n",
       "      <td>...</td>\n",
       "      <td>...</td>\n",
       "      <td>...</td>\n",
       "      <td>...</td>\n",
       "      <td>...</td>\n",
       "      <td>...</td>\n",
       "      <td>...</td>\n",
       "      <td>...</td>\n",
       "    </tr>\n",
       "    <tr>\n",
       "      <th>995436</th>\n",
       "      <td>2022</td>\n",
       "      <td>64006584</td>\n",
       "      <td>8.4</td>\n",
       "      <td>6.75</td>\n",
       "      <td>4.6</td>\n",
       "      <td>NaN</td>\n",
       "      <td>NaN</td>\n",
       "      <td>NaN</td>\n",
       "      <td>6.50</td>\n",
       "      <td>6.75</td>\n",
       "      <td>9.00</td>\n",
       "    </tr>\n",
       "    <tr>\n",
       "      <th>995437</th>\n",
       "      <td>2022</td>\n",
       "      <td>64006585</td>\n",
       "      <td>5.6</td>\n",
       "      <td>6.50</td>\n",
       "      <td>2.8</td>\n",
       "      <td>NaN</td>\n",
       "      <td>NaN</td>\n",
       "      <td>NaN</td>\n",
       "      <td>6.25</td>\n",
       "      <td>6.75</td>\n",
       "      <td>8.50</td>\n",
       "    </tr>\n",
       "    <tr>\n",
       "      <th>995438</th>\n",
       "      <td>2022</td>\n",
       "      <td>64006586</td>\n",
       "      <td>5.8</td>\n",
       "      <td>6.00</td>\n",
       "      <td>6.6</td>\n",
       "      <td>NaN</td>\n",
       "      <td>NaN</td>\n",
       "      <td>NaN</td>\n",
       "      <td>7.25</td>\n",
       "      <td>8.00</td>\n",
       "      <td>8.00</td>\n",
       "    </tr>\n",
       "    <tr>\n",
       "      <th>995439</th>\n",
       "      <td>2022</td>\n",
       "      <td>64006587</td>\n",
       "      <td>7.6</td>\n",
       "      <td>6.75</td>\n",
       "      <td>7.0</td>\n",
       "      <td>NaN</td>\n",
       "      <td>NaN</td>\n",
       "      <td>NaN</td>\n",
       "      <td>8.75</td>\n",
       "      <td>7.25</td>\n",
       "      <td>9.75</td>\n",
       "    </tr>\n",
       "    <tr>\n",
       "      <th>995440</th>\n",
       "      <td>2022</td>\n",
       "      <td>64006588</td>\n",
       "      <td>6.6</td>\n",
       "      <td>4.50</td>\n",
       "      <td>3.2</td>\n",
       "      <td>NaN</td>\n",
       "      <td>NaN</td>\n",
       "      <td>NaN</td>\n",
       "      <td>3.00</td>\n",
       "      <td>6.00</td>\n",
       "      <td>7.50</td>\n",
       "    </tr>\n",
       "  </tbody>\n",
       "</table>\n",
       "<p>3673159 rows × 11 columns</p>\n",
       "</div>"
      ],
      "text/plain": [
       "        Year       sbd  Toan   Van  Ngoai_ngu    Li  Hoa  Sinh    Su   Dia  \\\n",
       "0       2019  24008611   8.2  8.00        7.6   NaN  NaN   NaN  8.25  7.75   \n",
       "1       2019  51000032   8.6  6.17        8.0  8.25  4.5   6.0   NaN   NaN   \n",
       "2       2019  51000005   5.2  4.75        NaN   NaN  NaN   NaN  4.00  4.25   \n",
       "3       2019  51000021   4.4  4.50        NaN   NaN  NaN   NaN  2.25  4.75   \n",
       "4       2019  51000013   5.8  6.00        4.4   NaN  NaN   NaN  7.75  8.25   \n",
       "...      ...       ...   ...   ...        ...   ...  ...   ...   ...   ...   \n",
       "995436  2022  64006584   8.4  6.75        4.6   NaN  NaN   NaN  6.50  6.75   \n",
       "995437  2022  64006585   5.6  6.50        2.8   NaN  NaN   NaN  6.25  6.75   \n",
       "995438  2022  64006586   5.8  6.00        6.6   NaN  NaN   NaN  7.25  8.00   \n",
       "995439  2022  64006587   7.6  6.75        7.0   NaN  NaN   NaN  8.75  7.25   \n",
       "995440  2022  64006588   6.6  4.50        3.2   NaN  NaN   NaN  3.00  6.00   \n",
       "\n",
       "        GDCD  \n",
       "0       8.75  \n",
       "1        NaN  \n",
       "2       5.75  \n",
       "3       5.00  \n",
       "4       7.50  \n",
       "...      ...  \n",
       "995436  9.00  \n",
       "995437  8.50  \n",
       "995438  8.00  \n",
       "995439  9.75  \n",
       "995440  7.50  \n",
       "\n",
       "[3673159 rows x 11 columns]"
      ]
     },
     "execution_count": 69,
     "metadata": {},
     "output_type": "execute_result"
    }
   ],
   "source": [
    "def add_year_to_data(df, year):\n",
    "    col = np.repeat(year, (df.shape[0]))\n",
    "    if 'Year' not in df.keys():\n",
    "        df.insert(0, 'Year', col, True)\n",
    "    return df\n",
    "    \n",
    "year_2019_df = add_year_to_data(year_2019_df, 2019)\n",
    "year_2020_df = add_year_to_data(year_2020_df, 2020)\n",
    "year_2021_df = add_year_to_data(year_2021_df, 2021)\n",
    "year_2022_df = add_year_to_data(year_2022_df, 2022)"
   ]
  },
  {
   "cell_type": "markdown",
   "metadata": {},
   "source": [
    "## Bước 4:\n",
    "- Nối các year_<năm>_df thành một df chứa dữ liệu của 4 năm từ 2019 đến 2022\n",
    "- Sau đó viết dữ liệu ra một file csv mới lưu với tên là score_college_exam_data.csv "
   ]
  },
  {
   "cell_type": "code",
   "execution_count": 70,
   "metadata": {},
   "outputs": [],
   "source": [
    "concatenate_df = pd.concat([year_2019_df, year_2020_df, year_2021_df, year_2022_df], axis = 0)\n",
    "concatenate_df.to_csv('./score_college_exam_data/score_college_exam_data.csv')"
   ]
  }
 ],
 "metadata": {
  "kernelspec": {
   "display_name": "Python 3.9.12 ('base')",
   "language": "python",
   "name": "python3"
  },
  "language_info": {
   "codemirror_mode": {
    "name": "ipython",
    "version": 3
   },
   "file_extension": ".py",
   "mimetype": "text/x-python",
   "name": "python",
   "nbconvert_exporter": "python",
   "pygments_lexer": "ipython3",
   "version": "3.9.12"
  },
  "orig_nbformat": 4,
  "vscode": {
   "interpreter": {
    "hash": "a90aeebcf29d64a654773811cc170cb25061cb2498f10ac689db374c7bf325de"
   }
  }
 },
 "nbformat": 4,
 "nbformat_minor": 2
}
