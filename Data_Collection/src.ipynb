{
 "cells": [
  {
   "cell_type": "markdown",
   "metadata": {},
   "source": [
    "# < NHÓM 05 > LẬP TRÌNH CHO KHOA HỌC DỮ LIỆU\n",
    "## 1. Hiểu dữ liệu\n",
    "- Dữ liệu chính là điểm thi đại học của các học sinh THPT.\n",
    "- Dữ liệu dòng: \n",
    "    - Ý nghĩa của mỗi dòng:\n",
    "    - Có vấn đề các dòng có ý nghĩa khác nhau không?\n",
    "- Dữ liệu cột:\n",
    "    - Ý nghĩa của mỗi cột:\n",
    "    - Mỗi cột hiện có kiểu dữ liệu là: \n",
    "    - Cột có kiểu dữ liệu không phù hợp, có thể xử lý tiếp không ?\n",
    "## 2. Thu thập dữ liệu:\n",
    "- Nguồn dữ liệu: từ một repo github\n",
    "- Dạng input đầu vào: file csv\n",
    "- Số lượng input đầu vào: 4 file csv\n",
    "- Sự khác nhau giữa các input: **Có file khác nhau về số cột** "
   ]
  },
  {
   "cell_type": "markdown",
   "metadata": {},
   "source": [
    "# THU THẬP DỮ LIỆU\n",
    "- Để tiến hành thu thập dữ liệu, như đã nêu ở trên, các input có sự khác nhau nên ta phải tìm input khác (ở đây input data 2021, 2022 là khác so với các input data còn lại).\n",
    "- Sau đó ta sẽ tiến hành thu thập dữ liệu và đưa về thành 1 data duy nhất (từ 4 input ta sẽ đưa về thành 1 input để tiền xử lý)\n",
    "- Ta sẽ thực hiện theo các bước sau:\n",
    "    - Bước 1: Đọc file input của 4 năm \n",
    "    - Bước 2: Xóa các cột dư thừa \n",
    "    - Bước 3: Thêm một cột mới để định danh cho file đó\n",
    "    - Bước 4: Nối các dữ liệu lại với nhau và xuất thành 1 file csv mới."
   ]
  },
  {
   "cell_type": "markdown",
   "metadata": {},
   "source": [
    "Cùng làm thôi..."
   ]
  },
  {
   "cell_type": "code",
   "execution_count": 1,
   "metadata": {},
   "outputs": [],
   "source": [
    "import pandas as pd\n",
    "import numpy as np"
   ]
  },
  {
   "cell_type": "markdown",
   "metadata": {},
   "source": [
    "## Bước 1:\n",
    "- Chúng ta sẽ đọc từng file dữ liệu đã có sẵn.\n",
    "- Các file được đặt trong thư mục: ./score_college_exam_data\n",
    "- Các file sẽ có tên theo định dạng: <năm lấy dữ liệu>.csv\n",
    "- Sau khi đọc, chúng ta lưu data dưới dạng một DataFrame có tên là year_<năm>_df"
   ]
  },
  {
   "cell_type": "code",
   "execution_count": 2,
   "metadata": {},
   "outputs": [],
   "source": [
    "# shape = (n, 10) // n dòng, 10 cột là shape đúng\n",
    "def open_data(year):\n",
    "    filepath = './score_college_exam_data/' + year + '.csv'\n",
    "    year_df = pd.read_csv(filepath)\n",
    "    return year_df\n",
    "\n",
    "year_2019_df = open_data('2019')\n",
    "year_2020_df = open_data('2020')\n",
    "year_2021_df = open_data('2021')\n",
    "year_2022_df = open_data('2022')"
   ]
  },
  {
   "cell_type": "markdown",
   "metadata": {},
   "source": [
    "## Bước 2:\n",
    "- Xóa dữ liệu là các cột của df sao cho mỗi df có shape là (n, 10)"
   ]
  },
  {
   "cell_type": "code",
   "execution_count": 3,
   "metadata": {},
   "outputs": [],
   "source": [
    "def drop_col(df, key):\n",
    "    if df.shape[1] != 10:\n",
    "        result = df.drop(df.keys()[key], axis = 1)\n",
    "    else:\n",
    "        return df\n",
    "    return result\n",
    "\n",
    "# Năm 2019:\n",
    "key_del = [0, 5]\n",
    "key_del_2021 = [0, 2, 9, 10, 14, 15, 16, 17, 18, 19]\n",
    "\n",
    "# year_2019_df.drop(key_del[:2], axis = 1)\n",
    "year_2019_df = drop_col(year_2019_df, key_del)\n",
    "year_2020_df = drop_col(year_2020_df, key_del)\n",
    "year_2021_df = drop_col(year_2021_df, key_del_2021)"
   ]
  },
  {
   "cell_type": "markdown",
   "metadata": {},
   "source": [
    "- Sau khi xóa các cột dư thừa thì ta sẽ sắp xếp các cột dữ liệu theo dạng chuẩn (tự quy định)"
   ]
  },
  {
   "cell_type": "code",
   "execution_count": 4,
   "metadata": {},
   "outputs": [],
   "source": [
    "key_truth = ['sbd', 'Toan', 'Van', 'Ngoai_ngu', 'Li', 'Hoa', 'Sinh', 'Su', 'Dia', 'GDCD']\n",
    "key_2021_truth = ['id', 'mathematics_score', 'literature_score', 'foreign_language_score',\n",
    "                 'physics_score', 'chemistry_score', 'biology_score',\n",
    "\t            'history_score', 'geography_score',\t'civic_education_score']\n",
    "\n",
    "year_2019_df = year_2019_df[key_truth]\n",
    "year_2020_df = year_2020_df[key_truth]\n",
    "year_2021_df = year_2021_df[key_2021_truth]"
   ]
  },
  {
   "cell_type": "markdown",
   "metadata": {},
   "source": [
    "- Format các dữ liệu khác khi có tên cột chưa chuẩn (Để khi nối cột sẽ không bị thay đổi chiều dữ liệu)."
   ]
  },
  {
   "cell_type": "code",
   "execution_count": 5,
   "metadata": {},
   "outputs": [],
   "source": [
    "year_2021_df.columns = key_truth\n",
    "year_2022_df.columns = key_truth"
   ]
  },
  {
   "cell_type": "markdown",
   "metadata": {},
   "source": [
    "## Bước 3:\n",
    "Để phân biệt giữa các năm thì chúng ta sẽ thêm 1 cột mới vào year_<năm>_df với tên cột là 'year', đặt ở vị trí đầu của df và dữ liệu là năm đó. "
   ]
  },
  {
   "cell_type": "code",
   "execution_count": 6,
   "metadata": {},
   "outputs": [],
   "source": [
    "def add_year_to_data(df, year):\n",
    "    col = np.repeat(year, (df.shape[0]))\n",
    "    if 'Year' not in df.keys():\n",
    "        df.insert(0, 'Year', col, True)\n",
    "    return df\n",
    "    \n",
    "year_2019_df = add_year_to_data(year_2019_df, 2019)\n",
    "year_2020_df = add_year_to_data(year_2020_df, 2020)\n",
    "year_2021_df = add_year_to_data(year_2021_df, 2021)\n",
    "year_2022_df = add_year_to_data(year_2022_df, 2022)"
   ]
  },
  {
   "cell_type": "markdown",
   "metadata": {},
   "source": [
    "## Bước 4:\n",
    "- Nối các year_<năm>_df thành một df chứa dữ liệu của 4 năm từ 2019 đến 2022\n",
    "- Sau đó viết dữ liệu ra một file csv mới lưu với tên là score_college_exam_data.csv "
   ]
  },
  {
   "cell_type": "code",
   "execution_count": 7,
   "metadata": {},
   "outputs": [],
   "source": [
    "concatenate_df = pd.concat([year_2019_df, year_2020_df, year_2021_df, year_2022_df], axis = 0)\n",
    "concatenate_df.to_csv('./score_college_exam_data/score_college_exam_data.csv')"
   ]
  }
 ],
 "metadata": {
  "kernelspec": {
   "display_name": "Python 3.9.12 ('base')",
   "language": "python",
   "name": "python3"
  },
  "language_info": {
   "codemirror_mode": {
    "name": "ipython",
    "version": 3
   },
   "file_extension": ".py",
   "mimetype": "text/x-python",
   "name": "python",
   "nbconvert_exporter": "python",
   "pygments_lexer": "ipython3",
   "version": "3.9.12"
  },
  "orig_nbformat": 4,
  "vscode": {
   "interpreter": {
    "hash": "a90aeebcf29d64a654773811cc170cb25061cb2498f10ac689db374c7bf325de"
   }
  }
 },
 "nbformat": 4,
 "nbformat_minor": 2
}
