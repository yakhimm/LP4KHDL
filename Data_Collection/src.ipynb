{
 "cells": [
  {
   "cell_type": "markdown",
   "metadata": {},
   "source": [
    "# < NHÓM 05 > LẬP TRÌNH CHO KHOA HỌC DỮ LIỆU\n",
    "## 1. Hiểu dữ liệu\n",
    "- Dữ liệu chính là điểm thi đại học của các học sinh THPT.\n",
    "- Dữ liệu dòng: \n",
    "    - Ý nghĩa của mỗi dòng:\n",
    "    - Có vấn đề các dòng có ý nghĩa khác nhau không?\n",
    "- Dữ liệu cột:\n",
    "    - Ý nghĩa của mỗi cột:\n",
    "    - Mỗi cột hiện có kiểu dữ liệu là: \n",
    "    - Cột có kiểu dữ liệu không phù hợp, có thể xử lý tiếp không ?\n",
    "## 2. Thu thập dữ liệu:\n",
    "- Nguồn dữ liệu: từ một repo github\n",
    "- Dạng input đầu vào: file csv\n",
    "- Số lượng input đầu vào: 4 file csv\n",
    "- Sự khác nhau giữa các input: **Có file khác nhau về số cột** "
   ]
  },
  {
   "cell_type": "markdown",
   "metadata": {},
   "source": [
    "# THU THẬP DỮ LIỆU\n",
    "- Để tiến hành thu thập dữ liệu, như đã nêu ở trên, các input có sự khác nhau nên ta phải tìm input khác (ở đây input data 2021, 2022 là khác so với các input data còn lại).\n",
    "- Sau đó ta sẽ tiến hành thu thập dữ liệu và đưa về thành 1 data duy nhất (từ 4 input ta sẽ đưa về thành 1 input để tiền xử lý)\n",
    "- Ta sẽ thực hiện theo các bước sau:\n",
    "    - Bước 1: Đọc 1 file input \n",
    "    - Bước 2: Thêm một cột mới để định danh cho file đó\n",
    "    - Bước 3: Làm tương tự bước 1 cho đến khi đọc hết các file\n",
    "    - Bước 4: Nối các dữ liệu lại với nhau và xuất thành 1 file csv mới."
   ]
  },
  {
   "cell_type": "markdown",
   "metadata": {},
   "source": [
    "Cùng làm thôi..."
   ]
  },
  {
   "cell_type": "markdown",
   "metadata": {},
   "source": [
    "## Bước 1:\n",
    "- Chúng ta sẽ đọc từng file dữ liệu đã có sẵn.\n",
    "- Các file được đặt trong thư mục: ./score_college_exam_data\n",
    "- Các file sẽ có tên theo định dạng: <năm lấy dữ liệu>.csv\n",
    "- Sau khi đọc, chúng ta lưu data dưới dạng một DataFrame có tên là <năm>_df"
   ]
  },
  {
   "cell_type": "code",
   "execution_count": 1,
   "metadata": {},
   "outputs": [
    {
     "name": "stdout",
     "output_type": "stream",
     "text": [
      "huu\n"
     ]
    }
   ],
   "source": []
  },
  {
   "cell_type": "markdown",
   "metadata": {},
   "source": [
    "## Bước 2:\n",
    "Để phân biệt giữa các năm thì chúng ta sẽ thêm 1 cột mới vào <năm>_df với tên cột là 'year', đặt ở vị trí đầu của df và dữ liệu là năm đó. "
   ]
  },
  {
   "cell_type": "code",
   "execution_count": null,
   "metadata": {},
   "outputs": [],
   "source": []
  },
  {
   "cell_type": "markdown",
   "metadata": {},
   "source": [
    "## Bước 3:\n",
    "Sau khi làm được bước 1 và 2 thì ta sẽ dùng dòng for để tạo các df khác"
   ]
  },
  {
   "cell_type": "code",
   "execution_count": null,
   "metadata": {},
   "outputs": [],
   "source": []
  },
  {
   "cell_type": "markdown",
   "metadata": {},
   "source": [
    "### Tiền xử lý trước \n",
    "- Trước khi qua bước 4, ta sẽ tiền xử lý dữ liệu. Tìm ra DataFrame có shape khác với các DataFrame còn lại.\n",
    "- Sau khi tìm được thì ta sẽ xử lý DataFrame đó: Xóa các dòng của DataFrame làm cho DataFrame đó khác shape so với các DataFrame còn lại (Gợi ý: Nhìn các file ta thấy 2021.csv có các ngôn ngữ khác ngoài ngôn ngữ Anh, nên ta sẽ xóa các dữ liệu (dòng) của cột 'foreign_language_type' có giá trị khác 'N1'). Nguyên do là vì các dữ liệu đó có thể là các outlier (các thí sinh thi ngôn ngữ khác khá ít nên có thể trở thành dữ liệu gây nhiễu cho bài).\n",
    "- Tìm thử xem còn DataFrame nào khác nữa không nhé !!! (Gợi ý: Dữ liệu năm 2022)"
   ]
  },
  {
   "cell_type": "code",
   "execution_count": null,
   "metadata": {},
   "outputs": [],
   "source": []
  },
  {
   "cell_type": "markdown",
   "metadata": {},
   "source": [
    "## Bước 4:\n",
    "- Nối các <năm>_df thành một df chứa dữ liệu của 4 năm từ 2019 đến 2022\n",
    "- Sau đó viết dữ liệu ra một file csv mới lưu với tên là score_college_exam_data.csv "
   ]
  },
  {
   "cell_type": "code",
   "execution_count": null,
   "metadata": {},
   "outputs": [],
   "source": []
  }
 ],
 "metadata": {
  "kernelspec": {
   "display_name": "Python 3.10.8 64-bit (microsoft store)",
   "language": "python",
   "name": "python3"
  },
  "language_info": {
   "codemirror_mode": {
    "name": "ipython",
    "version": 3
   },
   "file_extension": ".py",
   "mimetype": "text/x-python",
   "name": "python",
   "nbconvert_exporter": "python",
   "pygments_lexer": "ipython3",
   "version": "3.10.8"
  },
  "orig_nbformat": 4,
  "vscode": {
   "interpreter": {
    "hash": "65a440aeac0c89e2af7569e0aa53b64434c4b69eb6285e2b0d174d9bca190d54"
   }
  }
 },
 "nbformat": 4,
 "nbformat_minor": 2
}
