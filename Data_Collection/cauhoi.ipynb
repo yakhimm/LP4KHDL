{
 "cells": [
  {
   "attachments": {},
   "cell_type": "markdown",
   "metadata": {},
   "source": [
    "# < NHÓM 05 > LẬP TRÌNH CHO KHOA HỌC DỮ LIỆU\n"
   ]
  },
  {
   "cell_type": "markdown",
   "metadata": {},
   "source": [
    "Cùng làm thôi..."
   ]
  },
  {
   "cell_type": "code",
   "execution_count": 86,
   "metadata": {},
   "outputs": [],
   "source": [
    "import pandas as pd\n",
    "import numpy as np\n",
    "import matplotlib.pyplot as plt"
   ]
  },
  {
   "cell_type": "markdown",
   "metadata": {},
   "source": [
    "# Khám phá dữ liệu (đan xen với pha tiền xử lý dữ liệu)\n",
    "\n",
    "### Đọc dữ liệu từ tập tin \n",
    "\n",
    "Đọc dữ liệu từ file `score_college_exam_data.csv` và lưu vào DataFrame `core_df`."
   ]
  },
  {
   "cell_type": "code",
   "execution_count": 87,
   "metadata": {},
   "outputs": [
    {
     "data": {
      "text/html": [
       "<div>\n",
       "<style scoped>\n",
       "    .dataframe tbody tr th:only-of-type {\n",
       "        vertical-align: middle;\n",
       "    }\n",
       "\n",
       "    .dataframe tbody tr th {\n",
       "        vertical-align: top;\n",
       "    }\n",
       "\n",
       "    .dataframe thead th {\n",
       "        text-align: right;\n",
       "    }\n",
       "</style>\n",
       "<table border=\"1\" class=\"dataframe\">\n",
       "  <thead>\n",
       "    <tr style=\"text-align: right;\">\n",
       "      <th></th>\n",
       "      <th>Year</th>\n",
       "      <th>sbd</th>\n",
       "      <th>Toan</th>\n",
       "      <th>Van</th>\n",
       "      <th>Ngoai_ngu</th>\n",
       "      <th>Li</th>\n",
       "      <th>Hoa</th>\n",
       "      <th>Sinh</th>\n",
       "      <th>Su</th>\n",
       "      <th>Dia</th>\n",
       "      <th>GDCD</th>\n",
       "    </tr>\n",
       "  </thead>\n",
       "  <tbody>\n",
       "    <tr>\n",
       "      <th>0</th>\n",
       "      <td>2019</td>\n",
       "      <td>24008611</td>\n",
       "      <td>8.2</td>\n",
       "      <td>8.00</td>\n",
       "      <td>7.6</td>\n",
       "      <td>NaN</td>\n",
       "      <td>NaN</td>\n",
       "      <td>NaN</td>\n",
       "      <td>8.25</td>\n",
       "      <td>7.75</td>\n",
       "      <td>8.75</td>\n",
       "    </tr>\n",
       "    <tr>\n",
       "      <th>1</th>\n",
       "      <td>2019</td>\n",
       "      <td>51000032</td>\n",
       "      <td>8.6</td>\n",
       "      <td>6.17</td>\n",
       "      <td>8.0</td>\n",
       "      <td>8.25</td>\n",
       "      <td>4.5</td>\n",
       "      <td>6.0</td>\n",
       "      <td>NaN</td>\n",
       "      <td>NaN</td>\n",
       "      <td>NaN</td>\n",
       "    </tr>\n",
       "    <tr>\n",
       "      <th>2</th>\n",
       "      <td>2019</td>\n",
       "      <td>51000005</td>\n",
       "      <td>5.2</td>\n",
       "      <td>4.75</td>\n",
       "      <td>NaN</td>\n",
       "      <td>NaN</td>\n",
       "      <td>NaN</td>\n",
       "      <td>NaN</td>\n",
       "      <td>4.00</td>\n",
       "      <td>4.25</td>\n",
       "      <td>5.75</td>\n",
       "    </tr>\n",
       "    <tr>\n",
       "      <th>3</th>\n",
       "      <td>2019</td>\n",
       "      <td>51000021</td>\n",
       "      <td>4.4</td>\n",
       "      <td>4.50</td>\n",
       "      <td>NaN</td>\n",
       "      <td>NaN</td>\n",
       "      <td>NaN</td>\n",
       "      <td>NaN</td>\n",
       "      <td>2.25</td>\n",
       "      <td>4.75</td>\n",
       "      <td>5.00</td>\n",
       "    </tr>\n",
       "    <tr>\n",
       "      <th>4</th>\n",
       "      <td>2019</td>\n",
       "      <td>51000013</td>\n",
       "      <td>5.8</td>\n",
       "      <td>6.00</td>\n",
       "      <td>4.4</td>\n",
       "      <td>NaN</td>\n",
       "      <td>NaN</td>\n",
       "      <td>NaN</td>\n",
       "      <td>7.75</td>\n",
       "      <td>8.25</td>\n",
       "      <td>7.50</td>\n",
       "    </tr>\n",
       "  </tbody>\n",
       "</table>\n",
       "</div>"
      ],
      "text/plain": [
       "   Year       sbd  Toan   Van  Ngoai_ngu    Li  Hoa  Sinh    Su   Dia  GDCD\n",
       "0  2019  24008611   8.2  8.00        7.6   NaN  NaN   NaN  8.25  7.75  8.75\n",
       "1  2019  51000032   8.6  6.17        8.0  8.25  4.5   6.0   NaN   NaN   NaN\n",
       "2  2019  51000005   5.2  4.75        NaN   NaN  NaN   NaN  4.00  4.25  5.75\n",
       "3  2019  51000021   4.4  4.50        NaN   NaN  NaN   NaN  2.25  4.75  5.00\n",
       "4  2019  51000013   5.8  6.00        4.4   NaN  NaN   NaN  7.75  8.25  7.50"
      ]
     },
     "execution_count": 87,
     "metadata": {},
     "output_type": "execute_result"
    }
   ],
   "source": [
    "core_df = pd.read_csv('score_college_exam_data.csv', index_col= \"Unnamed: 0\")\n",
    "core_df.head()"
   ]
  },
  {
   "cell_type": "markdown",
   "metadata": {},
   "source": [
    "### Dữ liệu có bao nhiêu dòng và bao nhiêu cột?\n",
    "\n",
    "Ta tính số dòng và số cột của DataFrame `core_df` và lưu vào biến `shape` (tuple). "
   ]
  },
  {
   "cell_type": "code",
   "execution_count": 88,
   "metadata": {},
   "outputs": [
    {
     "data": {
      "text/plain": [
       "(3665169, 11)"
      ]
     },
     "execution_count": 88,
     "metadata": {},
     "output_type": "execute_result"
    }
   ],
   "source": [
    "core_df.shape"
   ]
  },
  {
   "cell_type": "markdown",
   "metadata": {},
   "source": [
    "## Câu hỏi: Liệu học phí có ảnh hưởng quá nhiều đến điểm chuẩn?\n",
    "\n",
    "### Như chúng ta đã biết, năm 2022 ngành IT hệ đại trà ở trường ĐH KHTN đã tăng học phí lên 27 triệu/năm, nhiều gần gấp đôi so với mức học phí cũ (14.5tr). Như vậy, điều này có làm cho ngành này giảm điểm mạnh không? Hay cho dù có tăng nhưng điểm số cũng không ảnh hưởng.\n",
    "\n",
    "### Dựa vào bộ dữ liệu điểm thi và điểm chuẩn của 3 hệ ngành IT (Đại trà, tiên tiến, CLC) những năm 2019,2020,2021, đưa ra dự đoán điểm chuẩn của các nhóm ngành này vào năm 2022 (không xét tới yếu tố học phí) và so sánh với thực tế xem là học phí có phải thứ ảnh hưởng quá nhiều đến điểm chuẩn không? (Giả sử ta chỉ tính điểm của các thí sinh thi khối A0,A1)"
   ]
  },
  {
   "cell_type": "markdown",
   "metadata": {},
   "source": [
    "Ta chỉ xét những bạn thi khối A0 và A1, nên những bạn không thi những môn trong các khối này sẽ bị loại đi"
   ]
  },
  {
   "cell_type": "code",
   "execution_count": 89,
   "metadata": {},
   "outputs": [],
   "source": [
    "data_for_A = core_df.dropna(subset=['Toan','Li','Hoa','Ngoai_ngu'])"
   ]
  },
  {
   "cell_type": "markdown",
   "metadata": {},
   "source": [
    "Làm như trên có thể vô tình loại luôn những thí sinh tự do, nhưng vì số lượng này cũng không nhiều nên để đơn giản hoá ta không tính vào"
   ]
  },
  {
   "cell_type": "code",
   "execution_count": 90,
   "metadata": {},
   "outputs": [],
   "source": [
    "#Lấy các trường năm và điểm của các môn thuộc A0,A1\n",
    "data_score = data_for_A[['Year','Toan','Ngoai_ngu','Li','Hoa']]"
   ]
  },
  {
   "cell_type": "markdown",
   "metadata": {},
   "source": [
    "Giả sử tất cả các bạn ta xét trong tập dữ liệu data_scoce đều thi một trong 2 khối A00 hoặc A01, nhưng vì điểm xét chung cho cả 2 khối nên ta chỉ cần 1 cột điểm gọi là điểm xét tuyển. Điểm xét tuyển sẽ làm điểm lớn nhất giữa 2 điểm A0 và A1 của thí sinh."
   ]
  },
  {
   "cell_type": "code",
   "execution_count": 91,
   "metadata": {},
   "outputs": [
    {
     "name": "stderr",
     "output_type": "stream",
     "text": [
      "C:\\Users\\HP\\AppData\\Local\\Temp\\ipykernel_6696\\3896450756.py:1: SettingWithCopyWarning: \n",
      "A value is trying to be set on a copy of a slice from a DataFrame.\n",
      "Try using .loc[row_indexer,col_indexer] = value instead\n",
      "\n",
      "See the caveats in the documentation: https://pandas.pydata.org/pandas-docs/stable/user_guide/indexing.html#returning-a-view-versus-a-copy\n",
      "  data_score['AA'] = np.nan\n"
     ]
    }
   ],
   "source": [
    "data_score['AA'] = np.nan"
   ]
  },
  {
   "cell_type": "markdown",
   "metadata": {},
   "source": [
    "Ta sẽ tính điểm xét tuyển của các thí sinh, nếu thí sinh có điểm A0 cao hơn thì trả về điểm A0, nếu thí sinh có điểm A1 cao hơn thì trả về A1."
   ]
  },
  {
   "cell_type": "code",
   "execution_count": 92,
   "metadata": {},
   "outputs": [],
   "source": [
    "def cal_score(row_student):\n",
    "    score_toan_ly = row_student['Toan']+row_student['Li']\n",
    "    if score_toan_ly + row_student['Hoa'] > score_toan_ly + row_student['Ngoai_ngu']:\n",
    "        return score_toan_ly + row_student['Hoa']\n",
    "    else:\n",
    "        return score_toan_ly + row_student['Ngoai_ngu']\n"
   ]
  },
  {
   "cell_type": "markdown",
   "metadata": {},
   "source": [
    "Tính điểm thi các khối cho từng thí sinh"
   ]
  },
  {
   "cell_type": "code",
   "execution_count": 93,
   "metadata": {},
   "outputs": [],
   "source": [
    "AA = data_score.apply(cal_score, axis=1) "
   ]
  },
  {
   "cell_type": "markdown",
   "metadata": {},
   "source": [
    "Lưu kết quả vào các cột điểm trong data_score"
   ]
  },
  {
   "cell_type": "code",
   "execution_count": 94,
   "metadata": {},
   "outputs": [
    {
     "name": "stderr",
     "output_type": "stream",
     "text": [
      "C:\\Users\\HP\\AppData\\Local\\Temp\\ipykernel_6696\\1655038841.py:1: SettingWithCopyWarning: \n",
      "A value is trying to be set on a copy of a slice from a DataFrame.\n",
      "Try using .loc[row_indexer,col_indexer] = value instead\n",
      "\n",
      "See the caveats in the documentation: https://pandas.pydata.org/pandas-docs/stable/user_guide/indexing.html#returning-a-view-versus-a-copy\n",
      "  data_score['AA'] = AA\n"
     ]
    }
   ],
   "source": [
    "data_score['AA'] = AA"
   ]
  },
  {
   "cell_type": "markdown",
   "metadata": {},
   "source": [
    "Tiếp theo, chúng ta sẽ tính điểm trung bình của các khối này qua các năm 2019,2020,2021,2022"
   ]
  },
  {
   "cell_type": "markdown",
   "metadata": {},
   "source": [
    "Để tránh bị loãng dữ liệu, ta chỉ xét những thí sinh có điểm số trên 24"
   ]
  },
  {
   "cell_type": "code",
   "execution_count": 95,
   "metadata": {},
   "outputs": [],
   "source": [
    "df_score_24 = data_score[data_score['AA'] >= 24]"
   ]
  },
  {
   "cell_type": "code",
   "execution_count": 96,
   "metadata": {},
   "outputs": [
    {
     "data": {
      "text/plain": [
       "25.120039568757885"
      ]
     },
     "execution_count": 96,
     "metadata": {},
     "output_type": "execute_result"
    }
   ],
   "source": [
    "AA_2019 = df_score_24[df_score_24['Year'] == 2019]['AA'].mean()\n",
    "AA_2019\n"
   ]
  },
  {
   "cell_type": "code",
   "execution_count": 97,
   "metadata": {},
   "outputs": [
    {
     "data": {
      "text/plain": [
       "25.36409387839197"
      ]
     },
     "execution_count": 97,
     "metadata": {},
     "output_type": "execute_result"
    }
   ],
   "source": [
    "AA_2020 = df_score_24[df_score_24['Year'] == 2020]['AA'].mean()\n",
    "AA_2020"
   ]
  },
  {
   "cell_type": "code",
   "execution_count": 98,
   "metadata": {},
   "outputs": [
    {
     "data": {
      "text/plain": [
       "25.33824562622183"
      ]
     },
     "execution_count": 98,
     "metadata": {},
     "output_type": "execute_result"
    }
   ],
   "source": [
    "AA_2021 = df_score_24[df_score_24['Year'] == 2021]['AA'].mean()\n",
    "AA_2021"
   ]
  },
  {
   "cell_type": "code",
   "execution_count": 99,
   "metadata": {},
   "outputs": [
    {
     "data": {
      "text/plain": [
       "25.33361672134829"
      ]
     },
     "execution_count": 99,
     "metadata": {},
     "output_type": "execute_result"
    }
   ],
   "source": [
    "\n",
    "AA_2022 = df_score_24[df_score_24['Year'] == 2022]['AA'].mean()\n",
    "AA_2022"
   ]
  },
  {
   "cell_type": "markdown",
   "metadata": {},
   "source": [
    "Ta sẽ dùng mô hình Linear Regression để đưa ra dự đoán điểm chuẩn 2022"
   ]
  },
  {
   "cell_type": "code",
   "execution_count": 100,
   "metadata": {},
   "outputs": [],
   "source": [
    "from sklearn.linear_model import LinearRegression"
   ]
  },
  {
   "cell_type": "markdown",
   "metadata": {},
   "source": [
    "Ta đọc file điểm chuẩn của 4 năm 2019 đến 2022 sau đó lưu vào df_score. Ta sẽ thử xem liệu mô hình có đưa ra kết quả sát với thực tế không"
   ]
  },
  {
   "cell_type": "code",
   "execution_count": 101,
   "metadata": {},
   "outputs": [
    {
     "data": {
      "text/html": [
       "<div>\n",
       "<style scoped>\n",
       "    .dataframe tbody tr th:only-of-type {\n",
       "        vertical-align: middle;\n",
       "    }\n",
       "\n",
       "    .dataframe tbody tr th {\n",
       "        vertical-align: top;\n",
       "    }\n",
       "\n",
       "    .dataframe thead th {\n",
       "        text-align: right;\n",
       "    }\n",
       "</style>\n",
       "<table border=\"1\" class=\"dataframe\">\n",
       "  <thead>\n",
       "    <tr style=\"text-align: right;\">\n",
       "      <th></th>\n",
       "      <th>2019</th>\n",
       "      <th>2020</th>\n",
       "      <th>2021</th>\n",
       "      <th>2022</th>\n",
       "    </tr>\n",
       "  </thead>\n",
       "  <tbody>\n",
       "    <tr>\n",
       "      <th>ĐT</th>\n",
       "      <td>25.0</td>\n",
       "      <td>27.20</td>\n",
       "      <td>27.4</td>\n",
       "      <td>27.2</td>\n",
       "    </tr>\n",
       "    <tr>\n",
       "      <th>TT</th>\n",
       "      <td>24.6</td>\n",
       "      <td>26.65</td>\n",
       "      <td>28.0</td>\n",
       "      <td>28.2</td>\n",
       "    </tr>\n",
       "    <tr>\n",
       "      <th>CLC</th>\n",
       "      <td>23.2</td>\n",
       "      <td>25.75</td>\n",
       "      <td>26.9</td>\n",
       "      <td>27.2</td>\n",
       "    </tr>\n",
       "  </tbody>\n",
       "</table>\n",
       "</div>"
      ],
      "text/plain": [
       "     2019   2020  2021  2022\n",
       "ĐT   25.0  27.20  27.4  27.2\n",
       "TT   24.6  26.65  28.0  28.2\n",
       "CLC  23.2  25.75  26.9  27.2"
      ]
     },
     "execution_count": 101,
     "metadata": {},
     "output_type": "execute_result"
    }
   ],
   "source": [
    "df_score = pd.read_csv('diemchuanITHCMUS.csv',index_col= 'Unnamed: 0')\n",
    "df_score"
   ]
  },
  {
   "cell_type": "markdown",
   "metadata": {},
   "source": [
    "Để dự đoán điểm, có thể phải cần thêm một yếu tố khác đó là chỉ tiêu xét tuyển\n",
    "\n",
    "Để xem sự ảnh hưởng thì ta sẽ dự đoán trong 2 trường hợp, một là với điểm riêng và hai là có thêm chỉ tiêu"
   ]
  },
  {
   "cell_type": "code",
   "execution_count": 102,
   "metadata": {},
   "outputs": [],
   "source": [
    "df_number = pd.DataFrame([],index = ['ĐT','TT','CLC'])\n",
    "df_number[2019] = np.array([250,40,150])\n",
    "df_number[2020] = [140,28,153]\n",
    "df_number[2021] = [185,24,147]\n",
    "df_number[2022] = [180,24,150]\n",
    "df_number.to_csv('chitieuhcmusit.csv')"
   ]
  },
  {
   "cell_type": "code",
   "execution_count": 103,
   "metadata": {},
   "outputs": [
    {
     "data": {
      "text/html": [
       "<div>\n",
       "<style scoped>\n",
       "    .dataframe tbody tr th:only-of-type {\n",
       "        vertical-align: middle;\n",
       "    }\n",
       "\n",
       "    .dataframe tbody tr th {\n",
       "        vertical-align: top;\n",
       "    }\n",
       "\n",
       "    .dataframe thead th {\n",
       "        text-align: right;\n",
       "    }\n",
       "</style>\n",
       "<table border=\"1\" class=\"dataframe\">\n",
       "  <thead>\n",
       "    <tr style=\"text-align: right;\">\n",
       "      <th></th>\n",
       "      <th>2019</th>\n",
       "      <th>2020</th>\n",
       "      <th>2021</th>\n",
       "      <th>2022</th>\n",
       "    </tr>\n",
       "  </thead>\n",
       "  <tbody>\n",
       "    <tr>\n",
       "      <th>ĐT</th>\n",
       "      <td>250</td>\n",
       "      <td>140</td>\n",
       "      <td>185</td>\n",
       "      <td>180</td>\n",
       "    </tr>\n",
       "    <tr>\n",
       "      <th>TT</th>\n",
       "      <td>40</td>\n",
       "      <td>28</td>\n",
       "      <td>24</td>\n",
       "      <td>24</td>\n",
       "    </tr>\n",
       "    <tr>\n",
       "      <th>CLC</th>\n",
       "      <td>150</td>\n",
       "      <td>153</td>\n",
       "      <td>147</td>\n",
       "      <td>150</td>\n",
       "    </tr>\n",
       "  </tbody>\n",
       "</table>\n",
       "</div>"
      ],
      "text/plain": [
       "     2019  2020  2021  2022\n",
       "ĐT    250   140   185   180\n",
       "TT     40    28    24    24\n",
       "CLC   150   153   147   150"
      ]
     },
     "execution_count": 103,
     "metadata": {},
     "output_type": "execute_result"
    }
   ],
   "source": [
    "df_number = pd.read_csv('chitieuhcmusit.csv',index_col= 'Unnamed: 0')\n",
    "df_number"
   ]
  },
  {
   "cell_type": "markdown",
   "metadata": {},
   "source": [
    "Đầu tiên ta có x là điểm trung bình của 2 khối trong các năm 2019, 2020, 2021 và chỉ tiêu tuyển sinh (chia thành 2 trường hợp)"
   ]
  },
  {
   "cell_type": "code",
   "execution_count": 104,
   "metadata": {},
   "outputs": [],
   "source": [
    "x1 = np.array([[AA_2019,df_number.loc['ĐT']['2019']],\n",
    "                [AA_2020,df_number.loc['ĐT']['2020']],\n",
    "                [AA_2021,df_number.loc['ĐT']['2021']]])\n",
    "\n",
    "x2 = np.array([[AA_2019,df_number.loc['TT']['2019']],\n",
    "                [AA_2020,df_number.loc['TT']['2020']],\n",
    "                [AA_2021,df_number.loc['TT']['2021']]])\n",
    "\n",
    "x3 = np.array([[AA_2019,df_number.loc['CLC']['2019']],\n",
    "                [AA_2020,df_number.loc['CLC']['2020']],\n",
    "                [AA_2021,df_number.loc['CLC']['2021']]])\n",
    "\n",
    "x_only_score = ([[AA_2019],\n",
    "                [AA_2020],\n",
    "                [AA_2021]])\n"
   ]
  },
  {
   "cell_type": "markdown",
   "metadata": {},
   "source": [
    "Sau đó, ta gán y1 là điểm của đại trà, y2 là điểm của tiên tiến, y3 là điểm của CLC trong 3 năm 2019, 2020, 2021 "
   ]
  },
  {
   "cell_type": "code",
   "execution_count": 105,
   "metadata": {},
   "outputs": [],
   "source": [
    "#ĐT\n",
    "y1 = np.array(df_score.loc['ĐT'][:-1])\n",
    "#TT\n",
    "y2 = np.array(df_score.loc['TT'][:-1])\n",
    "#CLC\n",
    "y3 = np.array(df_score.loc['CLC'][:-1])"
   ]
  },
  {
   "cell_type": "markdown",
   "metadata": {},
   "source": [
    "Tạo các mô hình Linear Regression"
   ]
  },
  {
   "cell_type": "code",
   "execution_count": 106,
   "metadata": {},
   "outputs": [],
   "source": [
    "model1 = LinearRegression().fit(x1,y1)\n",
    "model2 = LinearRegression().fit(x2,y2)\n",
    "model3 = LinearRegression().fit(x3,y3)\n",
    "\n",
    "model4 = LinearRegression().fit(x_only_score,y1)\n",
    "model5 = LinearRegression().fit(x_only_score,y2)\n",
    "model6 = LinearRegression().fit(x_only_score,y3)\n"
   ]
  },
  {
   "cell_type": "markdown",
   "metadata": {},
   "source": [
    "Sau khi tạo xong mô hình, ta sẽ đưa dữ liệu điểm của năm 2022 để mô hình dự đoán điểm chuẩn 2022"
   ]
  },
  {
   "cell_type": "code",
   "execution_count": 107,
   "metadata": {},
   "outputs": [
    {
     "name": "stdout",
     "output_type": "stream",
     "text": [
      "Diem (co tinh yeu to chi tieu) = [27.26626559]\n",
      "Diem (khong tinh yeu to chi tieu) = [27.11554899]\n"
     ]
    }
   ],
   "source": [
    "x1_new = np.array([[AA_2022,df_number.loc['ĐT']['2022']]])\n",
    "x_new = [[AA_2022]]\n",
    "#ĐT\n",
    "diemchuan2022DT = model1.predict(x1_new)\n",
    "print('Diem (co tinh yeu to chi tieu) = {}'.format(diemchuan2022DT))\n",
    "diemchuan2022DT_only_score = model4.predict(x_new)\n",
    "print('Diem (khong tinh yeu to chi tieu) = {}'.format(diemchuan2022DT_only_score))"
   ]
  },
  {
   "cell_type": "markdown",
   "metadata": {},
   "source": [
    "Ta chưa thấy sự khác biệt quá lớn ở việc tính thêm chỉ tiêu hay không"
   ]
  },
  {
   "cell_type": "code",
   "execution_count": 108,
   "metadata": {},
   "outputs": [
    {
     "name": "stdout",
     "output_type": "stream",
     "text": [
      "Diem (co tinh yeu to chi tieu) = [28.02878681]\n",
      "Diem (khong tinh yeu to chi tieu) = [27.08265984]\n"
     ]
    }
   ],
   "source": [
    "x2_new = np.array([[AA_2022,df_number.loc['TT']['2022']]])\n",
    "x_new = [[AA_2022]]\n",
    "#ĐT\n",
    "diemchuan2022TT = model2.predict(x2_new)\n",
    "print('Diem (co tinh yeu to chi tieu) = {}'.format(diemchuan2022TT))\n",
    "diemchuan2022TT_only_score = model5.predict(x_new)\n",
    "print('Diem (khong tinh yeu to chi tieu) = {}'.format(diemchuan2022TT_only_score))"
   ]
  },
  {
   "cell_type": "markdown",
   "metadata": {},
   "source": [
    "Ta đã thấy rõ ràng hơn khi tính yếu tố chỉ tiêu đã dự đoán lệch gần 1 điểm so với không tính"
   ]
  },
  {
   "cell_type": "code",
   "execution_count": 109,
   "metadata": {},
   "outputs": [
    {
     "name": "stdout",
     "output_type": "stream",
     "text": [
      "Diem (co tinh yeu to chi tieu) = [26.08767391]\n",
      "Diem (khong tinh yeu to chi tieu) = [26.05560294]\n"
     ]
    }
   ],
   "source": [
    "x3_new = np.array([[AA_2022,df_number.loc['CLC']['2022']]])\n",
    "x_new = [[AA_2022]]\n",
    "#ĐT\n",
    "diemchuan2022CLC = model3.predict(x3_new)\n",
    "print('Diem (co tinh yeu to chi tieu) = {}'.format(diemchuan2022CLC))\n",
    "diemchuan2022CLC_only_score = model6.predict(x_new)\n",
    "print('Diem (khong tinh yeu to chi tieu) = {}'.format(diemchuan2022CLC_only_score))"
   ]
  },
  {
   "cell_type": "markdown",
   "metadata": {},
   "source": [
    "Tương tự như đại trà, không có sự khác biệt lớn về việc xét theo tiêu chí chỉ tiêu"
   ]
  },
  {
   "cell_type": "markdown",
   "metadata": {},
   "source": [
    "Như vậy, ta có thể thấy là điểm dự đoán ngành IT ĐT là  27.11 -> 27.269 (Điểm thực tế: 27.2). Như vậy, ở ngành IT đại trà, yếu tố học phí có thể chưa ảnh hưởng quá lớn đến điểm chuẩn của ngành. Nhưng ở CLC thì khác, điểm dự đoán ~ 26,05 nhưng thực tế là 27.2 . Tuy học phí ngành này giữ nguyên nhưng điểm lại tăng rất nhiều, nguyên nhân là do khi học phí ĐT tăng đến mức gần bằng CLC, sinh viên sẽ có xu hướng lựa chọn CLC để được nhiều điểm lợi như: ở trong thành phố, trang thiết bị hiện đại hơn, lớp ít sinh viên hơn,vv..."
   ]
  },
  {
   "cell_type": "markdown",
   "metadata": {},
   "source": [
    "Tiếp theo ta sẽ vẽ biểu đồ biểu thị điểm trung bình của khối này so với điểm chuẩn của các ngành trong khối IT KHTN để xem độ tương quan qua các năm"
   ]
  },
  {
   "cell_type": "code",
   "execution_count": 110,
   "metadata": {},
   "outputs": [],
   "source": [
    "diemtbA = pd.Series([AA_2019,AA_2020,AA_2021,AA_2022],index = ['2019','2020','2021','2022'])\n",
    "\n",
    "diemDT = df_score.loc['ĐT']\n",
    "diemTT = df_score.loc['TT']\n",
    "diemCLC = df_score.loc['CLC']"
   ]
  },
  {
   "cell_type": "code",
   "execution_count": 111,
   "metadata": {},
   "outputs": [
    {
     "data": {
      "text/plain": [
       "array([25.12003957, 25.36409388, 25.33824563, 25.33361672])"
      ]
     },
     "execution_count": 111,
     "metadata": {},
     "output_type": "execute_result"
    }
   ],
   "source": [
    "diemtbA.values"
   ]
  },
  {
   "attachments": {},
   "cell_type": "markdown",
   "metadata": {},
   "source": [
    "Ta sẽ biểu diễn sự thay đổi điểm số qua các năm của các nhóm ngành IT KHTN và điểm trung bình khối A bằng lineplot"
   ]
  },
  {
   "cell_type": "code",
   "execution_count": 112,
   "metadata": {},
   "outputs": [
    {
     "data": {
      "image/png": "[encoded data removed]",
      "text/plain": [
       "<Figure size 640x480 with 1 Axes>"
      ]
     },
     "metadata": {},
     "output_type": "display_data"
    }
   ],
   "source": [
    "plt.plot(diemtbA.index,diemtbA.values,label = 'Điểm trung bình khối A')\n",
    "plt.plot(diemDT.index,diemDT.values,label = 'Điểm chuẩn ngành IT Đại trà')\n",
    "plt.plot(diemTT.index,diemTT.values,label = 'Điểm chuẩn ngành IT Tiên tiến')\n",
    "plt.plot(diemCLC.index,diemCLC.values,label = 'Điểm chuẩn ngành IT Chất lượng cao')\n",
    "\n",
    "plt.xlabel('Năm')\n",
    "plt.ylabel('Điểm')\n",
    "plt.title('Biểu đồ biểu diễn điểm số qua các năm của các nhóm ngành IT KHTN và điểm trung bình khối A')\n",
    "plt.legend()\n",
    "plt.show()"
   ]
  },
  {
   "cell_type": "markdown",
   "metadata": {},
   "source": [
    "#### Từ năm 2020 điểm chuẩn tăng rất mạnh. Nguyên nhân là do số lượng chỉ tiêu cho kì thi THPTQG đã giảm đi khá nhiều (sự xuất hiện của kì thi đánh giá năng lực) + độ HOT của ngành IT"
   ]
  }
 ],
 "metadata": {
  "kernelspec": {
   "display_name": "Python 3.10.8 64-bit",
   "language": "python",
   "name": "python3"
  },
  "language_info": {
   "codemirror_mode": {
    "name": "ipython",
    "version": 3
   },
   "file_extension": ".py",
   "mimetype": "text/x-python",
   "name": "python",
   "nbconvert_exporter": "python",
   "pygments_lexer": "ipython3",
   "version": "3.10.8"
  },
  "orig_nbformat": 4,
  "vscode": {
   "interpreter": {
    "hash": "a9cff5a362bc38ef45d817ae74b1af54d6a076e3d773891282bce078b815ba34"
   }
  }
 },
 "nbformat": 4,
 "nbformat_minor": 2
}
