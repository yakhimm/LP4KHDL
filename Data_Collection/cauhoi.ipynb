{
 "cells": [
  {
   "cell_type": "markdown",
   "metadata": {},
   "source": [
    "# < NHÓM 05 > LẬP TRÌNH CHO KHOA HỌC DỮ LIỆU\n",
    "## 1. Hiểu dữ liệu\n",
    "- Dữ liệu chính là điểm thi đại học của các học sinh THPT.\n",
    "- Dữ liệu dòng: \n",
    "    - Ý nghĩa của mỗi dòng:\n",
    "    - Có vấn đề các dòng có ý nghĩa khác nhau không?\n",
    "- Dữ liệu cột:\n",
    "    - Ý nghĩa của mỗi cột:\n",
    "    - Mỗi cột hiện có kiểu dữ liệu là: \n",
    "    - Cột có kiểu dữ liệu không phù hợp, có thể xử lý tiếp không ?\n",
    "## 2. Thu thập dữ liệu:\n",
    "- Nguồn dữ liệu: từ một repo github\n",
    "- Dạng input đầu vào: file csv\n",
    "- Số lượng input đầu vào: 4 file csv\n",
    "- Sự khác nhau giữa các input: **Có file khác nhau về số cột** "
   ]
  },
  {
   "cell_type": "markdown",
   "metadata": {},
   "source": [
    "# THU THẬP DỮ LIỆU\n",
    "- Để tiến hành thu thập dữ liệu, như đã nêu ở trên, các input có sự khác nhau nên ta phải tìm input khác (ở đây input data 2021, 2022 là khác so với các input data còn lại).\n",
    "- Sau đó ta sẽ tiến hành thu thập dữ liệu và đưa về thành 1 data duy nhất (từ 4 input ta sẽ đưa về thành 1 input để tiền xử lý)\n",
    "- Ta sẽ thực hiện theo các bước sau:\n",
    "    - Bước 1: Đọc file input của 4 năm \n",
    "    - Bước 2: Xóa các cột dư thừa \n",
    "    - Bước 3: Thêm một cột mới để định danh cho file đó\n",
    "    - Bước 4: Nối các dữ liệu lại với nhau và xuất thành 1 file csv mới."
   ]
  },
  {
   "cell_type": "markdown",
   "metadata": {},
   "source": [
    "Cùng làm thôi..."
   ]
  },
  {
   "cell_type": "code",
   "execution_count": 222,
   "metadata": {},
   "outputs": [],
   "source": [
    "import pandas as pd\n",
    "import numpy as np\n",
    "import matplotlib.pyplot as plt"
   ]
  },
  {
   "cell_type": "markdown",
   "metadata": {},
   "source": [
    "# Khám phá dữ liệu (đan xen với pha tiền xử lý dữ liệu)\n",
    "\n",
    "### Đọc dữ liệu từ tập tin \n",
    "\n",
    "Đọc dữ liệu từ file `score_college_exam_data.csv` và lưu vào DataFrame `core_df`."
   ]
  },
  {
   "cell_type": "code",
   "execution_count": 150,
   "metadata": {},
   "outputs": [
    {
     "data": {
      "text/html": [
       "<div>\n",
       "<style scoped>\n",
       "    .dataframe tbody tr th:only-of-type {\n",
       "        vertical-align: middle;\n",
       "    }\n",
       "\n",
       "    .dataframe tbody tr th {\n",
       "        vertical-align: top;\n",
       "    }\n",
       "\n",
       "    .dataframe thead th {\n",
       "        text-align: right;\n",
       "    }\n",
       "</style>\n",
       "<table border=\"1\" class=\"dataframe\">\n",
       "  <thead>\n",
       "    <tr style=\"text-align: right;\">\n",
       "      <th></th>\n",
       "      <th>Year</th>\n",
       "      <th>sbd</th>\n",
       "      <th>Toan</th>\n",
       "      <th>Van</th>\n",
       "      <th>Ngoai_ngu</th>\n",
       "      <th>Li</th>\n",
       "      <th>Hoa</th>\n",
       "      <th>Sinh</th>\n",
       "      <th>Su</th>\n",
       "      <th>Dia</th>\n",
       "      <th>GDCD</th>\n",
       "    </tr>\n",
       "  </thead>\n",
       "  <tbody>\n",
       "    <tr>\n",
       "      <th>0</th>\n",
       "      <td>2019</td>\n",
       "      <td>24008611</td>\n",
       "      <td>8.2</td>\n",
       "      <td>8.00</td>\n",
       "      <td>7.6</td>\n",
       "      <td>NaN</td>\n",
       "      <td>NaN</td>\n",
       "      <td>NaN</td>\n",
       "      <td>8.25</td>\n",
       "      <td>7.75</td>\n",
       "      <td>8.75</td>\n",
       "    </tr>\n",
       "    <tr>\n",
       "      <th>1</th>\n",
       "      <td>2019</td>\n",
       "      <td>51000032</td>\n",
       "      <td>8.6</td>\n",
       "      <td>6.17</td>\n",
       "      <td>8.0</td>\n",
       "      <td>8.25</td>\n",
       "      <td>4.5</td>\n",
       "      <td>6.0</td>\n",
       "      <td>NaN</td>\n",
       "      <td>NaN</td>\n",
       "      <td>NaN</td>\n",
       "    </tr>\n",
       "    <tr>\n",
       "      <th>2</th>\n",
       "      <td>2019</td>\n",
       "      <td>51000005</td>\n",
       "      <td>5.2</td>\n",
       "      <td>4.75</td>\n",
       "      <td>NaN</td>\n",
       "      <td>NaN</td>\n",
       "      <td>NaN</td>\n",
       "      <td>NaN</td>\n",
       "      <td>4.00</td>\n",
       "      <td>4.25</td>\n",
       "      <td>5.75</td>\n",
       "    </tr>\n",
       "    <tr>\n",
       "      <th>3</th>\n",
       "      <td>2019</td>\n",
       "      <td>51000021</td>\n",
       "      <td>4.4</td>\n",
       "      <td>4.50</td>\n",
       "      <td>NaN</td>\n",
       "      <td>NaN</td>\n",
       "      <td>NaN</td>\n",
       "      <td>NaN</td>\n",
       "      <td>2.25</td>\n",
       "      <td>4.75</td>\n",
       "      <td>5.00</td>\n",
       "    </tr>\n",
       "    <tr>\n",
       "      <th>4</th>\n",
       "      <td>2019</td>\n",
       "      <td>51000013</td>\n",
       "      <td>5.8</td>\n",
       "      <td>6.00</td>\n",
       "      <td>4.4</td>\n",
       "      <td>NaN</td>\n",
       "      <td>NaN</td>\n",
       "      <td>NaN</td>\n",
       "      <td>7.75</td>\n",
       "      <td>8.25</td>\n",
       "      <td>7.50</td>\n",
       "    </tr>\n",
       "  </tbody>\n",
       "</table>\n",
       "</div>"
      ],
      "text/plain": [
       "   Year       sbd  Toan   Van  Ngoai_ngu    Li  Hoa  Sinh    Su   Dia  GDCD\n",
       "0  2019  24008611   8.2  8.00        7.6   NaN  NaN   NaN  8.25  7.75  8.75\n",
       "1  2019  51000032   8.6  6.17        8.0  8.25  4.5   6.0   NaN   NaN   NaN\n",
       "2  2019  51000005   5.2  4.75        NaN   NaN  NaN   NaN  4.00  4.25  5.75\n",
       "3  2019  51000021   4.4  4.50        NaN   NaN  NaN   NaN  2.25  4.75  5.00\n",
       "4  2019  51000013   5.8  6.00        4.4   NaN  NaN   NaN  7.75  8.25  7.50"
      ]
     },
     "execution_count": 150,
     "metadata": {},
     "output_type": "execute_result"
    }
   ],
   "source": [
    "core_df = pd.read_csv('score_college_exam_data.csv', index_col= \"Unnamed: 0\")\n",
    "core_df.head()"
   ]
  },
  {
   "cell_type": "markdown",
   "metadata": {},
   "source": [
    "### Dữ liệu có bao nhiêu dòng và bao nhiêu cột?\n",
    "\n",
    "Ta tính số dòng và số cột của DataFrame `core_df` và lưu vào biến `shape` (tuple). "
   ]
  },
  {
   "cell_type": "code",
   "execution_count": 151,
   "metadata": {},
   "outputs": [
    {
     "data": {
      "text/plain": [
       "(3665169, 11)"
      ]
     },
     "execution_count": 151,
     "metadata": {},
     "output_type": "execute_result"
    }
   ],
   "source": [
    "shape = core_df.shape\n",
    "shape"
   ]
  },
  {
   "cell_type": "markdown",
   "metadata": {},
   "source": [
    "### Mỗi dòng có ý nghĩa gì? Có vấn đề các dòng có ý nghĩa khác nhau không?\n",
    "\n",
    "Mỗi dòng trong DataFrame `core_df` cho biết kết quả điểm thi đại học của học sinh Việt Nam từ năm 2019 đến năm 2022. Có vẻ không có vấn đề các dòng có ý nghĩa khác nhau (lúc sau, nếu phát hiện ra vấn đề thì ta sẽ quay lại đây). \n",
    "\n",
    "### Dữ liệu có các dòng bị lặp không?"
   ]
  },
  {
   "cell_type": "code",
   "execution_count": 152,
   "metadata": {},
   "outputs": [
    {
     "name": "stdout",
     "output_type": "stream",
     "text": [
      "Co dong trung (nen loai bo)\n"
     ]
    }
   ],
   "source": [
    "num_duplicated_rows = core_df.duplicated().sum()\n",
    "if num_duplicated_rows == 0:\n",
    "    print('Khong co dong trung')\n",
    "else:\n",
    "    print('Co dong trung (nen loai bo)')\n",
    "    core_df.drop_duplicates(inplace= True)\n"
   ]
  },
  {
   "cell_type": "code",
   "execution_count": 153,
   "metadata": {},
   "outputs": [
    {
     "data": {
      "text/plain": [
       "0"
      ]
     },
     "execution_count": 153,
     "metadata": {},
     "output_type": "execute_result"
    }
   ],
   "source": [
    "core_df.duplicated().sum()"
   ]
  },
  {
   "cell_type": "markdown",
   "metadata": {},
   "source": [
    "## Mỗi cột có ý nghĩa gì?\n",
    "\n",
    "- **Year** là năm thi của thí sinh\n",
    "\n",
    "- **sbd** là số báo danh của thí sinh\n",
    "\n",
    "- Các cột còn lại là điểm thi theo các môn của các thí sinh. Những giá trị NaN là môn mà thí sinh đó không tham gia thi.\n"
   ]
  },
  {
   "cell_type": "code",
   "execution_count": 154,
   "metadata": {},
   "outputs": [
    {
     "data": {
      "text/plain": [
       "Index(['Year', 'sbd', 'Toan', 'Van', 'Ngoai_ngu', 'Li', 'Hoa', 'Sinh', 'Su',\n",
       "       'Dia', 'GDCD'],\n",
       "      dtype='object')"
      ]
     },
     "execution_count": 154,
     "metadata": {},
     "output_type": "execute_result"
    }
   ],
   "source": [
    "core_df.columns"
   ]
  },
  {
   "cell_type": "markdown",
   "metadata": {},
   "source": [
    "\n",
    "### Mỗi cột hiện đang có kiểu dữ liệu gì? Có cột nào có kiểu dữ liệu chưa phù hợp để có thể xử lý tiếp không?"
   ]
  },
  {
   "cell_type": "code",
   "execution_count": 155,
   "metadata": {},
   "outputs": [
    {
     "name": "stdout",
     "output_type": "stream",
     "text": [
      "<class 'pandas.core.frame.DataFrame'>\n",
      "Int64Index: 3660578 entries, 0 to 995440\n",
      "Data columns (total 11 columns):\n",
      " #   Column     Dtype  \n",
      "---  ------     -----  \n",
      " 0   Year       int64  \n",
      " 1   sbd        int64  \n",
      " 2   Toan       float64\n",
      " 3   Van        float64\n",
      " 4   Ngoai_ngu  float64\n",
      " 5   Li         float64\n",
      " 6   Hoa        float64\n",
      " 7   Sinh       float64\n",
      " 8   Su         float64\n",
      " 9   Dia        float64\n",
      " 10  GDCD       float64\n",
      "dtypes: float64(9), int64(2)\n",
      "memory usage: 335.1 MB\n"
     ]
    }
   ],
   "source": [
    "core_df.info()"
   ]
  },
  {
   "cell_type": "code",
   "execution_count": 156,
   "metadata": {},
   "outputs": [],
   "source": [
    "core_df['sbd'] = core_df['sbd'].astype(str)"
   ]
  },
  {
   "cell_type": "markdown",
   "metadata": {},
   "source": [
    "Các cột đều có dạng `numeric` và đều phù hợp nên không cần xử lý kiểu dữ liệu của các cột nữa."
   ]
  },
  {
   "cell_type": "markdown",
   "metadata": {},
   "source": [
    "### Với mỗi cột có kiểu dữ liệu dạng số, các giá trị được phân bố như thế nào?\n",
    "\n",
    "Với các cột điểm, Ta sẽ tính:\n",
    "- Tỉ lệ % (từ 0 đến 100) các giá trị thiếu \n",
    "- Giá trị min\n",
    "- Giá trị lower quartile (phân vị 25)\n",
    "- Giá trị median (phân vị 50)\n",
    "- Giá trị upper quartile (phân vị 75)\n",
    "- Giá trị max\n",
    "\n",
    "\n",
    "Bạn sẽ lưu kết quả vào DataFrame `num_col_info_df`, trong đó: \n",
    "- Tên của các cột là tên của các cột điểm trong `core_df`\n",
    "- Tên của các dòng là: \"missing_ratio\", \"min\", \"lower_quartile\", \"median\", \"upper_quartile\", \"max\"\n",
    "\n",
    "Để dễ nhìn, tất cả các giá trị ta đều làm tròn với 1 chữ số thập phân bằng phương thức `.round(1)`."
   ]
  },
  {
   "cell_type": "code",
   "execution_count": 157,
   "metadata": {},
   "outputs": [
    {
     "data": {
      "text/html": [
       "<div>\n",
       "<style scoped>\n",
       "    .dataframe tbody tr th:only-of-type {\n",
       "        vertical-align: middle;\n",
       "    }\n",
       "\n",
       "    .dataframe tbody tr th {\n",
       "        vertical-align: top;\n",
       "    }\n",
       "\n",
       "    .dataframe thead th {\n",
       "        text-align: right;\n",
       "    }\n",
       "</style>\n",
       "<table border=\"1\" class=\"dataframe\">\n",
       "  <thead>\n",
       "    <tr style=\"text-align: right;\">\n",
       "      <th></th>\n",
       "      <th>Toan</th>\n",
       "      <th>Van</th>\n",
       "      <th>Ngoai_ngu</th>\n",
       "      <th>Li</th>\n",
       "      <th>Hoa</th>\n",
       "      <th>Sinh</th>\n",
       "      <th>Su</th>\n",
       "      <th>Dia</th>\n",
       "      <th>GDCD</th>\n",
       "    </tr>\n",
       "  </thead>\n",
       "  <tbody>\n",
       "    <tr>\n",
       "      <th>missing_ratio</th>\n",
       "      <td>0.8</td>\n",
       "      <td>1.5</td>\n",
       "      <td>11.6</td>\n",
       "      <td>65.7</td>\n",
       "      <td>65.5</td>\n",
       "      <td>66.0</td>\n",
       "      <td>34.4</td>\n",
       "      <td>35.1</td>\n",
       "      <td>44.3</td>\n",
       "    </tr>\n",
       "    <tr>\n",
       "      <th>min</th>\n",
       "      <td>0.0</td>\n",
       "      <td>0.0</td>\n",
       "      <td>0.0</td>\n",
       "      <td>0.0</td>\n",
       "      <td>0.0</td>\n",
       "      <td>0.0</td>\n",
       "      <td>0.0</td>\n",
       "      <td>0.0</td>\n",
       "      <td>0.0</td>\n",
       "    </tr>\n",
       "    <tr>\n",
       "      <th>lower_quartile</th>\n",
       "      <td>5.2</td>\n",
       "      <td>5.5</td>\n",
       "      <td>3.4</td>\n",
       "      <td>5.5</td>\n",
       "      <td>5.2</td>\n",
       "      <td>4.2</td>\n",
       "      <td>3.8</td>\n",
       "      <td>5.8</td>\n",
       "      <td>7.2</td>\n",
       "    </tr>\n",
       "    <tr>\n",
       "      <th>median</th>\n",
       "      <td>6.6</td>\n",
       "      <td>6.5</td>\n",
       "      <td>4.6</td>\n",
       "      <td>6.8</td>\n",
       "      <td>6.5</td>\n",
       "      <td>5.0</td>\n",
       "      <td>5.0</td>\n",
       "      <td>6.8</td>\n",
       "      <td>8.2</td>\n",
       "    </tr>\n",
       "    <tr>\n",
       "      <th>upper_quartile</th>\n",
       "      <td>7.8</td>\n",
       "      <td>7.2</td>\n",
       "      <td>6.4</td>\n",
       "      <td>7.5</td>\n",
       "      <td>7.8</td>\n",
       "      <td>6.0</td>\n",
       "      <td>6.5</td>\n",
       "      <td>7.5</td>\n",
       "      <td>9.0</td>\n",
       "    </tr>\n",
       "    <tr>\n",
       "      <th>max</th>\n",
       "      <td>10.0</td>\n",
       "      <td>10.0</td>\n",
       "      <td>10.0</td>\n",
       "      <td>10.0</td>\n",
       "      <td>10.0</td>\n",
       "      <td>10.0</td>\n",
       "      <td>10.0</td>\n",
       "      <td>10.0</td>\n",
       "      <td>10.0</td>\n",
       "    </tr>\n",
       "  </tbody>\n",
       "</table>\n",
       "</div>"
      ],
      "text/plain": [
       "                Toan   Van  Ngoai_ngu    Li   Hoa  Sinh    Su   Dia  GDCD\n",
       "missing_ratio    0.8   1.5       11.6  65.7  65.5  66.0  34.4  35.1  44.3\n",
       "min              0.0   0.0        0.0   0.0   0.0   0.0   0.0   0.0   0.0\n",
       "lower_quartile   5.2   5.5        3.4   5.5   5.2   4.2   3.8   5.8   7.2\n",
       "median           6.6   6.5        4.6   6.8   6.5   5.0   5.0   6.8   8.2\n",
       "upper_quartile   7.8   7.2        6.4   7.5   7.8   6.0   6.5   7.5   9.0\n",
       "max             10.0  10.0       10.0  10.0  10.0  10.0  10.0  10.0  10.0"
      ]
     },
     "execution_count": 157,
     "metadata": {},
     "output_type": "execute_result"
    }
   ],
   "source": [
    "def get(col):\n",
    "    NaNValue = col.isna().sum()\n",
    "    valu1 = col.dropna()\n",
    "    x = []\n",
    "    x.append((NaNValue/len(col))*100)\n",
    "    x.append(np.percentile(valu1, 0))\n",
    "    x.append(np.percentile(valu1, 25))\n",
    "    x.append(np.percentile(valu1, 50))\n",
    "    x.append(np.percentile(valu1, 75))\n",
    "    x.append(np.percentile(valu1, 100))\n",
    "    return np.array(x).round(1)\n",
    "\n",
    "index_info=[\"missing_ratio\", \"min\", \"lower_quartile\", \"median\", \"upper_quartile\", \"max\"]\n",
    "dict_info = {}\n",
    "for i in core_df.columns:\n",
    "    if core_df[i].dtype in [np.float32, np.float64]:\n",
    "        dict_info[i] = get(core_df[i])   \n",
    "num_col_info_df =pd.DataFrame(dict_info,index_info)\n",
    "num_col_info_df"
   ]
  },
  {
   "cell_type": "markdown",
   "metadata": {},
   "source": [
    "## Câu hỏi: Liệu học phí có ảnh hưởng quá nhiều đến điểm chuẩn?\n",
    "\n",
    "### Như chúng ta đã biết, năm 2022 ngành IT hệ đại trà ở trường ĐH KHTN đã tăng học phí lên 27 triệu/năm, nhiều gần gấp đôi so với mức học phí cũ (14.5tr). Như vậy, điều này có làm cho ngành này giảm điểm mạnh không? Hay cho dù có tăng nhưng điểm số cũng không ảnh hưởng.\n",
    "\n",
    "### Dựa vào bộ dữ liệu điểm thi và điểm chuẩn của 3 hệ ngành IT (Đại trà, tiên tiến, CLC) những năm 2019,2020,2021, đưa ra dự đoán điểm chuẩn của các nhóm ngành này vào năm 2022 (không xét tới yếu tố học phí) và so sánh với thực tế xem là học phí có phải thứ ảnh hưởng quá nhiều đến điểm chuẩn không? (Giả sử ta chỉ tính điểm của các thí sinh thi khối A0,A1)"
   ]
  },
  {
   "cell_type": "markdown",
   "metadata": {},
   "source": [
    "Ta chỉ xét những bạn thi khối A0 và A1, nên những bạn không thi những môn trong các khối này sẽ bị loại đi"
   ]
  },
  {
   "cell_type": "code",
   "execution_count": 158,
   "metadata": {},
   "outputs": [],
   "source": [
    "data_for_A = core_df.dropna(subset=['Toan','Li','Hoa','Ngoai_ngu'])"
   ]
  },
  {
   "cell_type": "markdown",
   "metadata": {},
   "source": [
    "Làm như trên có thể vô tình loại luôn những thí sinh tự do, nhưng vì số lượng này cũng không nhiều nên để đơn giản hoá ta không tính vào"
   ]
  },
  {
   "cell_type": "code",
   "execution_count": 159,
   "metadata": {},
   "outputs": [],
   "source": [
    "#Lấy các trường năm và điểm của các môn thuộc A0,A1\n",
    "data_score = data_for_A[['Year','Toan','Ngoai_ngu','Li','Hoa']]"
   ]
  },
  {
   "cell_type": "markdown",
   "metadata": {},
   "source": [
    "Giả sử tất cả các bạn ta xét trong tập dữ liệu data_scoce đều thi một trong 2 khối A00 hoặc A01, nhưng vì điểm xét chung cho cả 2 khối nên ta chỉ cần 1 cột điểm gọi là điểm xét tuyển. Điểm xét tuyển sẽ làm điểm lớn nhất giữa 2 điểm A0 và A1 của thí sinh."
   ]
  },
  {
   "cell_type": "code",
   "execution_count": 160,
   "metadata": {},
   "outputs": [
    {
     "name": "stderr",
     "output_type": "stream",
     "text": [
      "C:\\Users\\HP\\AppData\\Local\\Temp\\ipykernel_5040\\3896450756.py:1: SettingWithCopyWarning: \n",
      "A value is trying to be set on a copy of a slice from a DataFrame.\n",
      "Try using .loc[row_indexer,col_indexer] = value instead\n",
      "\n",
      "See the caveats in the documentation: https://pandas.pydata.org/pandas-docs/stable/user_guide/indexing.html#returning-a-view-versus-a-copy\n",
      "  data_score['AA'] = np.nan\n"
     ]
    }
   ],
   "source": [
    "data_score['AA'] = np.nan"
   ]
  },
  {
   "cell_type": "markdown",
   "metadata": {},
   "source": [
    "Ta sẽ tính điểm xét tuyển của các thí sinh, nếu thí sinh có điểm A0 cao hơn thì trả về điểm A0, nếu thí sinh có điểm A1 cao hơn thì trả về A1."
   ]
  },
  {
   "cell_type": "code",
   "execution_count": 161,
   "metadata": {},
   "outputs": [],
   "source": [
    "def cal_score(row_student):\n",
    "    score_toan_ly = row_student['Toan']+row_student['Li']\n",
    "    if score_toan_ly + row_student['Hoa'] > score_toan_ly + row_student['Ngoai_ngu']:\n",
    "        return score_toan_ly + row_student['Hoa']\n",
    "    else:\n",
    "        return score_toan_ly + row_student['Ngoai_ngu']\n"
   ]
  },
  {
   "cell_type": "markdown",
   "metadata": {},
   "source": [
    "Tính điểm thi các khối cho từng thí sinh"
   ]
  },
  {
   "cell_type": "code",
   "execution_count": 162,
   "metadata": {},
   "outputs": [],
   "source": [
    "AA = data_score.apply(cal_score, axis=1) "
   ]
  },
  {
   "cell_type": "markdown",
   "metadata": {},
   "source": [
    "Lưu kết quả vào các cột điểm trong data_score"
   ]
  },
  {
   "cell_type": "code",
   "execution_count": 163,
   "metadata": {},
   "outputs": [
    {
     "name": "stderr",
     "output_type": "stream",
     "text": [
      "C:\\Users\\HP\\AppData\\Local\\Temp\\ipykernel_5040\\1655038841.py:1: SettingWithCopyWarning: \n",
      "A value is trying to be set on a copy of a slice from a DataFrame.\n",
      "Try using .loc[row_indexer,col_indexer] = value instead\n",
      "\n",
      "See the caveats in the documentation: https://pandas.pydata.org/pandas-docs/stable/user_guide/indexing.html#returning-a-view-versus-a-copy\n",
      "  data_score['AA'] = AA\n"
     ]
    }
   ],
   "source": [
    "data_score['AA'] = AA"
   ]
  },
  {
   "cell_type": "markdown",
   "metadata": {},
   "source": [
    "Tiếp theo, chúng ta sẽ tính điểm trung bình của các khối này qua các năm 2019,2020,2021,2022"
   ]
  },
  {
   "cell_type": "markdown",
   "metadata": {},
   "source": [
    "Để tránh bị loãng dữ liệu, ta chỉ xét những thí sinh có điểm số trên 24"
   ]
  },
  {
   "cell_type": "code",
   "execution_count": 164,
   "metadata": {},
   "outputs": [],
   "source": [
    "df_score_24 = data_score[data_score['AA'] >= 24]"
   ]
  },
  {
   "cell_type": "code",
   "execution_count": 165,
   "metadata": {},
   "outputs": [
    {
     "data": {
      "text/plain": [
       "25.120039568757885"
      ]
     },
     "execution_count": 165,
     "metadata": {},
     "output_type": "execute_result"
    }
   ],
   "source": [
    "AA_2019 = df_score_24[df_score_24['Year'] == 2019]['AA'].mean()\n",
    "AA_2019\n"
   ]
  },
  {
   "cell_type": "code",
   "execution_count": 166,
   "metadata": {},
   "outputs": [
    {
     "data": {
      "text/plain": [
       "25.36409387839197"
      ]
     },
     "execution_count": 166,
     "metadata": {},
     "output_type": "execute_result"
    }
   ],
   "source": [
    "AA_2020 = df_score_24[df_score_24['Year'] == 2020]['AA'].mean()\n",
    "AA_2020"
   ]
  },
  {
   "cell_type": "code",
   "execution_count": 167,
   "metadata": {},
   "outputs": [
    {
     "data": {
      "text/plain": [
       "25.337962796817987"
      ]
     },
     "execution_count": 167,
     "metadata": {},
     "output_type": "execute_result"
    }
   ],
   "source": [
    "AA_2021 = df_score_24[df_score_24['Year'] == 2021]['AA'].mean()\n",
    "AA_2021"
   ]
  },
  {
   "cell_type": "code",
   "execution_count": 168,
   "metadata": {},
   "outputs": [
    {
     "data": {
      "text/plain": [
       "25.33361672134829"
      ]
     },
     "execution_count": 168,
     "metadata": {},
     "output_type": "execute_result"
    }
   ],
   "source": [
    "\n",
    "AA_2022 = df_score_24[df_score_24['Year'] == 2022]['AA'].mean()\n",
    "AA_2022"
   ]
  },
  {
   "cell_type": "markdown",
   "metadata": {},
   "source": [
    "Ta sẽ dùng mô hình Linear Regression để đưa ra dự đoán điểm chuẩn 2022"
   ]
  },
  {
   "cell_type": "code",
   "execution_count": 169,
   "metadata": {},
   "outputs": [],
   "source": [
    "from sklearn.linear_model import LinearRegression"
   ]
  },
  {
   "cell_type": "markdown",
   "metadata": {},
   "source": [
    "Ta đọc file điểm chuẩn của 4 năm 2019 đến 2022 sau đó lưu vào df_score. Ta sẽ thử xem liệu mô hình có đưa ra kết quả sát với thực tế không"
   ]
  },
  {
   "cell_type": "code",
   "execution_count": 199,
   "metadata": {},
   "outputs": [
    {
     "data": {
      "text/html": [
       "<div>\n",
       "<style scoped>\n",
       "    .dataframe tbody tr th:only-of-type {\n",
       "        vertical-align: middle;\n",
       "    }\n",
       "\n",
       "    .dataframe tbody tr th {\n",
       "        vertical-align: top;\n",
       "    }\n",
       "\n",
       "    .dataframe thead th {\n",
       "        text-align: right;\n",
       "    }\n",
       "</style>\n",
       "<table border=\"1\" class=\"dataframe\">\n",
       "  <thead>\n",
       "    <tr style=\"text-align: right;\">\n",
       "      <th></th>\n",
       "      <th>2019</th>\n",
       "      <th>2020</th>\n",
       "      <th>2021</th>\n",
       "      <th>2022</th>\n",
       "    </tr>\n",
       "  </thead>\n",
       "  <tbody>\n",
       "    <tr>\n",
       "      <th>ĐT</th>\n",
       "      <td>25.0</td>\n",
       "      <td>27.20</td>\n",
       "      <td>27.4</td>\n",
       "      <td>27.2</td>\n",
       "    </tr>\n",
       "    <tr>\n",
       "      <th>TT</th>\n",
       "      <td>24.6</td>\n",
       "      <td>26.65</td>\n",
       "      <td>28.0</td>\n",
       "      <td>28.2</td>\n",
       "    </tr>\n",
       "    <tr>\n",
       "      <th>CLC</th>\n",
       "      <td>23.2</td>\n",
       "      <td>25.75</td>\n",
       "      <td>26.9</td>\n",
       "      <td>27.2</td>\n",
       "    </tr>\n",
       "  </tbody>\n",
       "</table>\n",
       "</div>"
      ],
      "text/plain": [
       "     2019   2020  2021  2022\n",
       "ĐT   25.0  27.20  27.4  27.2\n",
       "TT   24.6  26.65  28.0  28.2\n",
       "CLC  23.2  25.75  26.9  27.2"
      ]
     },
     "execution_count": 199,
     "metadata": {},
     "output_type": "execute_result"
    }
   ],
   "source": [
    "df_score = pd.read_csv('diemchuanITHCMUS.csv',index_col= 'Unnamed: 0')\n",
    "df_score"
   ]
  },
  {
   "cell_type": "markdown",
   "metadata": {},
   "source": [
    "Để dự đoán điểm, có thể phải cần thêm một yếu tố khác đó là chỉ tiêu xét tuyển\n",
    "\n",
    "Để xem sự ảnh hưởng thì ta sẽ dự đoán trong 2 trường hợp, một là với điểm riêng và hai là có thêm chỉ tiêu"
   ]
  },
  {
   "cell_type": "code",
   "execution_count": 200,
   "metadata": {},
   "outputs": [],
   "source": [
    "df_number = pd.DataFrame([],index = ['ĐT','TT','CLC'])\n",
    "df_number[2019] = np.array([250,40,150])\n",
    "df_number[2020] = [140,28,153]\n",
    "df_number[2021] = [185,24,147]\n",
    "df_number[2022] = [180,24,150]\n",
    "df_number.to_csv('chitieuhcmusit.csv')"
   ]
  },
  {
   "cell_type": "code",
   "execution_count": 201,
   "metadata": {},
   "outputs": [
    {
     "data": {
      "text/html": [
       "<div>\n",
       "<style scoped>\n",
       "    .dataframe tbody tr th:only-of-type {\n",
       "        vertical-align: middle;\n",
       "    }\n",
       "\n",
       "    .dataframe tbody tr th {\n",
       "        vertical-align: top;\n",
       "    }\n",
       "\n",
       "    .dataframe thead th {\n",
       "        text-align: right;\n",
       "    }\n",
       "</style>\n",
       "<table border=\"1\" class=\"dataframe\">\n",
       "  <thead>\n",
       "    <tr style=\"text-align: right;\">\n",
       "      <th></th>\n",
       "      <th>2019</th>\n",
       "      <th>2020</th>\n",
       "      <th>2021</th>\n",
       "      <th>2022</th>\n",
       "    </tr>\n",
       "  </thead>\n",
       "  <tbody>\n",
       "    <tr>\n",
       "      <th>ĐT</th>\n",
       "      <td>250</td>\n",
       "      <td>140</td>\n",
       "      <td>185</td>\n",
       "      <td>180</td>\n",
       "    </tr>\n",
       "    <tr>\n",
       "      <th>TT</th>\n",
       "      <td>40</td>\n",
       "      <td>28</td>\n",
       "      <td>24</td>\n",
       "      <td>24</td>\n",
       "    </tr>\n",
       "    <tr>\n",
       "      <th>CLC</th>\n",
       "      <td>150</td>\n",
       "      <td>153</td>\n",
       "      <td>147</td>\n",
       "      <td>150</td>\n",
       "    </tr>\n",
       "  </tbody>\n",
       "</table>\n",
       "</div>"
      ],
      "text/plain": [
       "     2019  2020  2021  2022\n",
       "ĐT    250   140   185   180\n",
       "TT     40    28    24    24\n",
       "CLC   150   153   147   150"
      ]
     },
     "execution_count": 201,
     "metadata": {},
     "output_type": "execute_result"
    }
   ],
   "source": [
    "df_number = pd.read_csv('chitieuhcmusit.csv',index_col= 'Unnamed: 0')\n",
    "df_number"
   ]
  },
  {
   "cell_type": "markdown",
   "metadata": {},
   "source": [
    "Đầu tiên ta có x là điểm trung bình của 2 khối trong các năm 2019, 2020, 2021 và chỉ tiêu tuyển sinh (chia thành 2 trường hợp)"
   ]
  },
  {
   "cell_type": "code",
   "execution_count": 212,
   "metadata": {},
   "outputs": [],
   "source": [
    "x1 = np.array([[AA_2019,df_number.loc['ĐT']['2019']],\n",
    "                [AA_2020,df_number.loc['ĐT']['2020']],\n",
    "                [AA_2021,df_number.loc['ĐT']['2021']]])\n",
    "\n",
    "x2 = np.array([[AA_2019,df_number.loc['TT']['2019']],\n",
    "                [AA_2020,df_number.loc['TT']['2020']],\n",
    "                [AA_2021,df_number.loc['TT']['2021']]])\n",
    "\n",
    "x3 = np.array([[AA_2019,df_number.loc['CLC']['2019']],\n",
    "                [AA_2020,df_number.loc['CLC']['2020']],\n",
    "                [AA_2021,df_number.loc['CLC']['2021']]])\n",
    "\n",
    "x_only_score = ([[AA_2019],\n",
    "                [AA_2020],\n",
    "                [AA_2021]])\n"
   ]
  },
  {
   "cell_type": "markdown",
   "metadata": {},
   "source": [
    "Sau đó, ta gán y1 là điểm của đại trà, y2 là điểm của tiên tiến, y3 là điểm của CLC trong 3 năm 2019, 2020, 2021 "
   ]
  },
  {
   "cell_type": "code",
   "execution_count": 213,
   "metadata": {},
   "outputs": [],
   "source": [
    "#ĐT\n",
    "y1 = np.array(df_score.loc['ĐT'][:-1])\n",
    "#TT\n",
    "y2 = np.array(df_score.loc['TT'][:-1])\n",
    "#CLC\n",
    "y3 = np.array(df_score.loc['CLC'][:-1])"
   ]
  },
  {
   "cell_type": "markdown",
   "metadata": {},
   "source": [
    "Tạo các mô hình Linear Regression"
   ]
  },
  {
   "cell_type": "code",
   "execution_count": 214,
   "metadata": {},
   "outputs": [],
   "source": [
    "model1 = LinearRegression().fit(x1,y1)\n",
    "model2 = LinearRegression().fit(x2,y2)\n",
    "model3 = LinearRegression().fit(x3,y3)\n",
    "\n",
    "model4 = LinearRegression().fit(x_only_score,y1)\n",
    "model5 = LinearRegression().fit(x_only_score,y2)\n",
    "model6 = LinearRegression().fit(x_only_score,y3)\n"
   ]
  },
  {
   "cell_type": "markdown",
   "metadata": {},
   "source": [
    "Sau khi tạo xong mô hình, ta sẽ đưa dữ liệu điểm của năm 2022 để mô hình dự đoán điểm chuẩn 2022"
   ]
  },
  {
   "cell_type": "code",
   "execution_count": 217,
   "metadata": {},
   "outputs": [
    {
     "name": "stdout",
     "output_type": "stream",
     "text": [
      "Diem (co tinh yeu to chi tieu) = [27.26958953]\n",
      "Diem (khong tinh yeu to chi tieu) = [27.11665303]\n"
     ]
    }
   ],
   "source": [
    "x1_new = np.array([[AA_2022,df_number.loc['ĐT']['2022']]])\n",
    "x_new = [[AA_2022]]\n",
    "#ĐT\n",
    "diemchuan2022DT = model1.predict(x1_new)\n",
    "print('Diem (co tinh yeu to chi tieu) = {}'.format(diemchuan2022DT))\n",
    "diemchuan2022DT_only_score = model4.predict(x_new)\n",
    "print('Diem (khong tinh yeu to chi tieu) = {}'.format(diemchuan2022DT_only_score))"
   ]
  },
  {
   "cell_type": "markdown",
   "metadata": {},
   "source": [
    "Ta chưa thấy sự khác biệt quá lớn ở việc tính thêm chỉ tiêu hay không"
   ]
  },
  {
   "cell_type": "code",
   "execution_count": 218,
   "metadata": {},
   "outputs": [
    {
     "name": "stdout",
     "output_type": "stream",
     "text": [
      "Diem (co tinh yeu to chi tieu) = [28.02695679]\n",
      "Diem (khong tinh yeu to chi tieu) = [27.08364495]\n"
     ]
    }
   ],
   "source": [
    "x2_new = np.array([[AA_2022,df_number.loc['TT']['2022']]])\n",
    "x_new = [[AA_2022]]\n",
    "#ĐT\n",
    "diemchuan2022TT = model2.predict(x2_new)\n",
    "print('Diem (co tinh yeu to chi tieu) = {}'.format(diemchuan2022TT))\n",
    "diemchuan2022TT_only_score = model5.predict(x_new)\n",
    "print('Diem (khong tinh yeu to chi tieu) = {}'.format(diemchuan2022TT_only_score))"
   ]
  },
  {
   "cell_type": "markdown",
   "metadata": {},
   "source": [
    "Ta đã thấy rõ ràng hơn khi tính yếu tố chỉ tiêu đã dự đoán lệch gần 1 điểm so với không tính"
   ]
  },
  {
   "cell_type": "code",
   "execution_count": 219,
   "metadata": {},
   "outputs": [
    {
     "name": "stdout",
     "output_type": "stream",
     "text": [
      "Diem (co tinh yeu to chi tieu) = [26.08944179]\n",
      "Diem (khong tinh yeu to chi tieu) = [26.05684818]\n"
     ]
    }
   ],
   "source": [
    "x3_new = np.array([[AA_2022,df_number.loc['CLC']['2022']]])\n",
    "x_new = [[AA_2022]]\n",
    "#ĐT\n",
    "diemchuan2022CLC = model3.predict(x3_new)\n",
    "print('Diem (co tinh yeu to chi tieu) = {}'.format(diemchuan2022CLC))\n",
    "diemchuan2022CLC_only_score = model6.predict(x_new)\n",
    "print('Diem (khong tinh yeu to chi tieu) = {}'.format(diemchuan2022CLC_only_score))"
   ]
  },
  {
   "cell_type": "markdown",
   "metadata": {},
   "source": [
    "Tương tự như đại trà, không có sự khác biệt lớn về việc xét theo tiêu chí chỉ tiêu"
   ]
  },
  {
   "cell_type": "markdown",
   "metadata": {},
   "source": [
    "Như vậy, ta có thể thấy là điểm dự đoán ngành IT ĐT là  27.11 -> 27.269 (Điểm thực tế: 27.2). Như vậy, ở ngành IT đại trà, yếu tố học phí có thể chưa ảnh hưởng quá lớn đến điểm chuẩn của ngành. Nhưng ở CLC thì khác, điểm dự đoán ~ 26,05 nhưng thực tế là 27.2 . Tuy học phí ngành này giữ nguyên nhưng điểm lại tăng rất nhiều, nguyên nhân là do khi học phí ĐT tăng đến mức gần bằng CLC, sinh viên sẽ có xu hướng lựa chọn CLC để được nhiều điểm lợi như: ở trong thành phố, trang thiết bị hiện đại hơn, lớp ít sinh viên hơn,vv..."
   ]
  },
  {
   "cell_type": "markdown",
   "metadata": {},
   "source": [
    "Tiếp theo ta sẽ vẽ biểu đồ biểu thị điểm trung bình của khối này so với điểm chuẩn của các ngành trong khối IT KHTN để xem độ tương quan qua các năm"
   ]
  },
  {
   "cell_type": "code",
   "execution_count": 223,
   "metadata": {},
   "outputs": [],
   "source": [
    "diemtbA = pd.Series([AA_2019,AA_2020,AA_2021,AA_2022],index = ['2019','2020','2021','2022'])\n",
    "\n",
    "diemDT = df_score.loc['ĐT']\n",
    "diemTT = df_score.loc['TT']\n",
    "diemCLC = df_score.loc['CLC']"
   ]
  },
  {
   "cell_type": "code",
   "execution_count": 226,
   "metadata": {},
   "outputs": [
    {
     "data": {
      "text/plain": [
       "array([25.12003957, 25.36409388, 25.3379628 , 25.33361672])"
      ]
     },
     "execution_count": 226,
     "metadata": {},
     "output_type": "execute_result"
    }
   ],
   "source": [
    "diemtbA.values"
   ]
  },
  {
   "cell_type": "code",
   "execution_count": 227,
   "metadata": {},
   "outputs": [
    {
     "data": {
      "image/png": "[encoded data removed]",
      "text/plain": [
       "<Figure size 640x480 with 1 Axes>"
      ]
     },
     "metadata": {},
     "output_type": "display_data"
    }
   ],
   "source": [
    "plt.plot(diemtbA.index,diemtbA.values,label = 'Điểm trung bình khối A')\n",
    "plt.plot(diemDT.index,diemDT.values,label = 'Điểm chuẩn ngành IT Đại trà')\n",
    "plt.plot(diemTT.index,diemTT.values,label = 'Điểm chuẩn ngành IT Tiên tiến')\n",
    "plt.plot(diemCLC.index,diemCLC.values,label = 'Điểm chuẩn ngành IT Chất lượng cao')\n",
    "\n",
    "plt.xlabel('Năm')\n",
    "plt.ylabel('Điểm')\n",
    "plt.title('Biểu đồ biểu diễn điểm số qua các năm của các nhóm ngành IT KHTN và điểm trung bình khối A')\n",
    "plt.legend()\n",
    "plt.show()"
   ]
  },
  {
   "cell_type": "markdown",
   "metadata": {},
   "source": [
    "#### Từ năm 2020 điểm chuẩn tăng rất mạnh. Nguyên nhân là do số lượng chỉ tiêu cho kì thi THPTQG đã giảm đi khá nhiều (sự xuất hiện của kì thi đánh giá năng lực) + độ HOT của ngành IT"
   ]
  },
  {
   "cell_type": "markdown",
   "metadata": {},
   "source": [
    "## CÂU 2: THỐNG KÊ TÌM ĐIỂM BẤT THƯỜNG\n",
    "\n",
    "### Nhờ vào một số phép thống kê, một số giáo viên đã phát hiện ra gian lận thi cử ở năm 2018. Ta sẽ thử xem dữ liệu điểm thi vào các năm sau có gì khác thường không. Ta sẽ thống kê 3 cột bao gồm tổng số lượng thí sinh thi ở tỉnh đó, điểm trung bình TN THPT tỉnh đó và số lượng điểm trên 9 của tỉnh đó."
   ]
  },
  {
   "cell_type": "markdown",
   "metadata": {},
   "source": [
    "Ta lấy dữ liệu điểm năm 2019"
   ]
  },
  {
   "cell_type": "code",
   "execution_count": 230,
   "metadata": {},
   "outputs": [],
   "source": [
    "df_2019 = core_df[core_df['Year'] == 2019]\n"
   ]
  },
  {
   "cell_type": "markdown",
   "metadata": {},
   "source": [
    "Sau đó ta sẽ lấy mã tỉnh ra: là 2 kí tự đầu trong SBD của thí sinh"
   ]
  },
  {
   "cell_type": "code",
   "execution_count": 231,
   "metadata": {},
   "outputs": [],
   "source": [
    "def returnSBD(i):\n",
    "    if len(i) == 8:\n",
    "        return i[:2]\n",
    "    return '0{}'.format(i[0])"
   ]
  },
  {
   "cell_type": "code",
   "execution_count": 232,
   "metadata": {},
   "outputs": [
    {
     "name": "stderr",
     "output_type": "stream",
     "text": [
      "C:\\Users\\HP\\AppData\\Local\\Temp\\ipykernel_5040\\650262768.py:1: SettingWithCopyWarning: \n",
      "A value is trying to be set on a copy of a slice from a DataFrame.\n",
      "Try using .loc[row_indexer,col_indexer] = value instead\n",
      "\n",
      "See the caveats in the documentation: https://pandas.pydata.org/pandas-docs/stable/user_guide/indexing.html#returning-a-view-versus-a-copy\n",
      "  df_2019['Tinh'] = df_2019['sbd'].apply(returnSBD)\n"
     ]
    }
   ],
   "source": [
    "df_2019['Tinh'] = df_2019['sbd'].apply(returnSBD)"
   ]
  },
  {
   "cell_type": "code",
   "execution_count": 233,
   "metadata": {},
   "outputs": [],
   "source": [
    "df_check_valid = pd.DataFrame([],index = sorted(df_2019['Tinh'].unique()))"
   ]
  },
  {
   "cell_type": "markdown",
   "metadata": {},
   "source": [
    "Ta khởi tạo dataframe df_check_valid để lưu các cột mà ta cần"
   ]
  },
  {
   "cell_type": "code",
   "execution_count": 234,
   "metadata": {},
   "outputs": [],
   "source": [
    "df_check_valid['Num'] = df_2019['Tinh'].value_counts().sort_index()"
   ]
  },
  {
   "cell_type": "markdown",
   "metadata": {},
   "source": [
    "Ta lấy các cột điểm thi"
   ]
  },
  {
   "cell_type": "code",
   "execution_count": 235,
   "metadata": {},
   "outputs": [],
   "source": [
    "df_score = df_2019[['Toan','Van','Ngoai_ngu','Li','Hoa','Sinh','Su','Dia','GDCD','Tinh']]"
   ]
  },
  {
   "cell_type": "markdown",
   "metadata": {},
   "source": [
    "Tính trung bình điểm tốt nghiệp của 1 thí sinh, sau đó lưu vào cột Mean của df_score"
   ]
  },
  {
   "cell_type": "code",
   "execution_count": 236,
   "metadata": {},
   "outputs": [
    {
     "name": "stderr",
     "output_type": "stream",
     "text": [
      "C:\\Users\\HP\\AppData\\Local\\Temp\\ipykernel_5040\\2943257996.py:1: RuntimeWarning: Mean of empty slice\n",
      "  df_score['Mean'] = np.nanmean(df_score[['Toan','Van','Ngoai_ngu','Li','Hoa','Sinh','Su','Dia','GDCD']],axis = 1)\n",
      "C:\\Users\\HP\\AppData\\Local\\Temp\\ipykernel_5040\\2943257996.py:1: SettingWithCopyWarning: \n",
      "A value is trying to be set on a copy of a slice from a DataFrame.\n",
      "Try using .loc[row_indexer,col_indexer] = value instead\n",
      "\n",
      "See the caveats in the documentation: https://pandas.pydata.org/pandas-docs/stable/user_guide/indexing.html#returning-a-view-versus-a-copy\n",
      "  df_score['Mean'] = np.nanmean(df_score[['Toan','Van','Ngoai_ngu','Li','Hoa','Sinh','Su','Dia','GDCD']],axis = 1)\n"
     ]
    }
   ],
   "source": [
    "df_score['Mean'] = np.nanmean(df_score[['Toan','Van','Ngoai_ngu','Li','Hoa','Sinh','Su','Dia','GDCD']],axis = 1)"
   ]
  },
  {
   "cell_type": "markdown",
   "metadata": {},
   "source": [
    "Ta gom nhóm theo mã tỉnh, sau đó tính điểm thi trung bình của tỉnh đó và lưu vào df_check_valid"
   ]
  },
  {
   "cell_type": "code",
   "execution_count": 237,
   "metadata": {},
   "outputs": [],
   "source": [
    "df_mean = df_score[['Tinh','Mean']]\n",
    "df_mean = df_mean.groupby(['Tinh']).mean()\n",
    "df_check_valid['Mean'] = df_mean['Mean']"
   ]
  },
  {
   "cell_type": "markdown",
   "metadata": {},
   "source": [
    "Tiếp theo, ta tính số lượng điểm trên 9 của từng thí sinh, lưu vào cột 'NumOf9'"
   ]
  },
  {
   "cell_type": "code",
   "execution_count": 238,
   "metadata": {},
   "outputs": [],
   "source": [
    "\n",
    "count_high = np.nansum(df_score[['Toan','Van','Ngoai_ngu','Li','Hoa','Sinh','Su','Dia','GDCD']]>=9,axis = 1)\n",
    "df_score['NumOf9'] = count_high\n",
    "df_count_high = df_score[['Tinh','NumOf9']]\n"
   ]
  },
  {
   "cell_type": "markdown",
   "metadata": {},
   "source": [
    "Tiếp tục gom nhóm theo tỉnh và tính tổng điểm trên 9 của tỉnh đó"
   ]
  },
  {
   "cell_type": "code",
   "execution_count": 239,
   "metadata": {},
   "outputs": [],
   "source": [
    "df_count_high = df_score[['Tinh','NumOf9']]\n",
    "df_count_high = df_count_high.groupby(['Tinh']).sum()\n",
    "df_check_valid['NumOf9'] = df_count_high['NumOf9']"
   ]
  },
  {
   "cell_type": "markdown",
   "metadata": {},
   "source": [
    "Ta sẽ coi top 10 tỉnh có thí sinh đông nhất"
   ]
  },
  {
   "cell_type": "code",
   "execution_count": 240,
   "metadata": {},
   "outputs": [
    {
     "data": {
      "text/html": [
       "<div>\n",
       "<style scoped>\n",
       "    .dataframe tbody tr th:only-of-type {\n",
       "        vertical-align: middle;\n",
       "    }\n",
       "\n",
       "    .dataframe tbody tr th {\n",
       "        vertical-align: top;\n",
       "    }\n",
       "\n",
       "    .dataframe thead th {\n",
       "        text-align: right;\n",
       "    }\n",
       "</style>\n",
       "<table border=\"1\" class=\"dataframe\">\n",
       "  <thead>\n",
       "    <tr style=\"text-align: right;\">\n",
       "      <th></th>\n",
       "      <th>index</th>\n",
       "      <th>Num</th>\n",
       "    </tr>\n",
       "  </thead>\n",
       "  <tbody>\n",
       "    <tr>\n",
       "      <th>0</th>\n",
       "      <td>01</td>\n",
       "      <td>74277</td>\n",
       "    </tr>\n",
       "    <tr>\n",
       "      <th>1</th>\n",
       "      <td>28</td>\n",
       "      <td>34886</td>\n",
       "    </tr>\n",
       "    <tr>\n",
       "      <th>2</th>\n",
       "      <td>29</td>\n",
       "      <td>32242</td>\n",
       "    </tr>\n",
       "    <tr>\n",
       "      <th>3</th>\n",
       "      <td>48</td>\n",
       "      <td>27525</td>\n",
       "    </tr>\n",
       "    <tr>\n",
       "      <th>4</th>\n",
       "      <td>40</td>\n",
       "      <td>20471</td>\n",
       "    </tr>\n",
       "    <tr>\n",
       "      <th>5</th>\n",
       "      <td>18</td>\n",
       "      <td>19554</td>\n",
       "    </tr>\n",
       "    <tr>\n",
       "      <th>6</th>\n",
       "      <td>21</td>\n",
       "      <td>19248</td>\n",
       "    </tr>\n",
       "    <tr>\n",
       "      <th>7</th>\n",
       "      <td>26</td>\n",
       "      <td>18986</td>\n",
       "    </tr>\n",
       "    <tr>\n",
       "      <th>8</th>\n",
       "      <td>03</td>\n",
       "      <td>18484</td>\n",
       "    </tr>\n",
       "    <tr>\n",
       "      <th>9</th>\n",
       "      <td>25</td>\n",
       "      <td>18275</td>\n",
       "    </tr>\n",
       "    <tr>\n",
       "      <th>10</th>\n",
       "      <td>37</td>\n",
       "      <td>17773</td>\n",
       "    </tr>\n",
       "    <tr>\n",
       "      <th>11</th>\n",
       "      <td>30</td>\n",
       "      <td>16821</td>\n",
       "    </tr>\n",
       "    <tr>\n",
       "      <th>12</th>\n",
       "      <td>34</td>\n",
       "      <td>16346</td>\n",
       "    </tr>\n",
       "    <tr>\n",
       "      <th>13</th>\n",
       "      <td>51</td>\n",
       "      <td>15784</td>\n",
       "    </tr>\n",
       "    <tr>\n",
       "      <th>14</th>\n",
       "      <td>12</td>\n",
       "      <td>14348</td>\n",
       "    </tr>\n",
       "  </tbody>\n",
       "</table>\n",
       "</div>"
      ],
      "text/plain": [
       "   index    Num\n",
       "0     01  74277\n",
       "1     28  34886\n",
       "2     29  32242\n",
       "3     48  27525\n",
       "4     40  20471\n",
       "5     18  19554\n",
       "6     21  19248\n",
       "7     26  18986\n",
       "8     03  18484\n",
       "9     25  18275\n",
       "10    37  17773\n",
       "11    30  16821\n",
       "12    34  16346\n",
       "13    51  15784\n",
       "14    12  14348"
      ]
     },
     "execution_count": 240,
     "metadata": {},
     "output_type": "execute_result"
    }
   ],
   "source": [
    "top15num = df_check_valid['Num'].sort_values(ascending=False).reset_index().head(15)\n",
    "top15num"
   ]
  },
  {
   "cell_type": "markdown",
   "metadata": {},
   "source": [
    "Top 10 tỉnh có số điểm trung bình cao nhất nhiều nhất"
   ]
  },
  {
   "cell_type": "code",
   "execution_count": 241,
   "metadata": {},
   "outputs": [],
   "source": [
    "top15mean = df_check_valid['Mean'].sort_values(ascending=False).reset_index().head(15)"
   ]
  },
  {
   "cell_type": "markdown",
   "metadata": {},
   "source": [
    "Top 10 tỉnh có số lượng điểm trên 9 cao nhất"
   ]
  },
  {
   "cell_type": "code",
   "execution_count": 242,
   "metadata": {},
   "outputs": [
    {
     "data": {
      "text/html": [
       "<div>\n",
       "<style scoped>\n",
       "    .dataframe tbody tr th:only-of-type {\n",
       "        vertical-align: middle;\n",
       "    }\n",
       "\n",
       "    .dataframe tbody tr th {\n",
       "        vertical-align: top;\n",
       "    }\n",
       "\n",
       "    .dataframe thead th {\n",
       "        text-align: right;\n",
       "    }\n",
       "</style>\n",
       "<table border=\"1\" class=\"dataframe\">\n",
       "  <thead>\n",
       "    <tr style=\"text-align: right;\">\n",
       "      <th></th>\n",
       "      <th>index</th>\n",
       "      <th>NumOf9</th>\n",
       "    </tr>\n",
       "  </thead>\n",
       "  <tbody>\n",
       "    <tr>\n",
       "      <th>0</th>\n",
       "      <td>01</td>\n",
       "      <td>10065</td>\n",
       "    </tr>\n",
       "    <tr>\n",
       "      <th>1</th>\n",
       "      <td>29</td>\n",
       "      <td>3271</td>\n",
       "    </tr>\n",
       "    <tr>\n",
       "      <th>2</th>\n",
       "      <td>28</td>\n",
       "      <td>3271</td>\n",
       "    </tr>\n",
       "    <tr>\n",
       "      <th>3</th>\n",
       "      <td>03</td>\n",
       "      <td>3209</td>\n",
       "    </tr>\n",
       "    <tr>\n",
       "      <th>4</th>\n",
       "      <td>15</td>\n",
       "      <td>2754</td>\n",
       "    </tr>\n",
       "    <tr>\n",
       "      <th>5</th>\n",
       "      <td>25</td>\n",
       "      <td>2605</td>\n",
       "    </tr>\n",
       "    <tr>\n",
       "      <th>6</th>\n",
       "      <td>16</td>\n",
       "      <td>2157</td>\n",
       "    </tr>\n",
       "    <tr>\n",
       "      <th>7</th>\n",
       "      <td>18</td>\n",
       "      <td>2115</td>\n",
       "    </tr>\n",
       "    <tr>\n",
       "      <th>8</th>\n",
       "      <td>30</td>\n",
       "      <td>2049</td>\n",
       "    </tr>\n",
       "    <tr>\n",
       "      <th>9</th>\n",
       "      <td>21</td>\n",
       "      <td>1978</td>\n",
       "    </tr>\n",
       "    <tr>\n",
       "      <th>10</th>\n",
       "      <td>51</td>\n",
       "      <td>1972</td>\n",
       "    </tr>\n",
       "    <tr>\n",
       "      <th>11</th>\n",
       "      <td>26</td>\n",
       "      <td>1939</td>\n",
       "    </tr>\n",
       "    <tr>\n",
       "      <th>12</th>\n",
       "      <td>27</td>\n",
       "      <td>1792</td>\n",
       "    </tr>\n",
       "    <tr>\n",
       "      <th>13</th>\n",
       "      <td>19</td>\n",
       "      <td>1603</td>\n",
       "    </tr>\n",
       "    <tr>\n",
       "      <th>14</th>\n",
       "      <td>24</td>\n",
       "      <td>1595</td>\n",
       "    </tr>\n",
       "  </tbody>\n",
       "</table>\n",
       "</div>"
      ],
      "text/plain": [
       "   index  NumOf9\n",
       "0     01   10065\n",
       "1     29    3271\n",
       "2     28    3271\n",
       "3     03    3209\n",
       "4     15    2754\n",
       "5     25    2605\n",
       "6     16    2157\n",
       "7     18    2115\n",
       "8     30    2049\n",
       "9     21    1978\n",
       "10    51    1972\n",
       "11    26    1939\n",
       "12    27    1792\n",
       "13    19    1603\n",
       "14    24    1595"
      ]
     },
     "execution_count": 242,
     "metadata": {},
     "output_type": "execute_result"
    }
   ],
   "source": [
    "top15score9 = df_check_valid['NumOf9'].sort_values(ascending=False).reset_index().head(15)\n",
    "top15score9"
   ]
  },
  {
   "cell_type": "markdown",
   "metadata": {},
   "source": [
    "Lấy ra mã tỉnh có điểm bất thường"
   ]
  },
  {
   "cell_type": "code",
   "execution_count": 243,
   "metadata": {},
   "outputs": [
    {
     "name": "stdout",
     "output_type": "stream",
     "text": [
      "19\n"
     ]
    }
   ],
   "source": [
    "for i in top15score9['index']:\n",
    "    if i not in top15mean['index'].values and i not in top15num['index'].values:\n",
    "        print(i)"
   ]
  },
  {
   "cell_type": "markdown",
   "metadata": {},
   "source": [
    "MỚI LÀM 1 NĂM + CHƯA VẼ BIỂU ĐỒ. ĐỢI BỔ SUNG"
   ]
  }
 ],
 "metadata": {
  "kernelspec": {
   "display_name": "Python 3.10.8 64-bit",
   "language": "python",
   "name": "python3"
  },
  "language_info": {
   "codemirror_mode": {
    "name": "ipython",
    "version": 3
   },
   "file_extension": ".py",
   "mimetype": "text/x-python",
   "name": "python",
   "nbconvert_exporter": "python",
   "pygments_lexer": "ipython3",
   "version": "3.10.8"
  },
  "orig_nbformat": 4,
  "vscode": {
   "interpreter": {
    "hash": "a9cff5a362bc38ef45d817ae74b1af54d6a076e3d773891282bce078b815ba34"
   }
  }
 },
 "nbformat": 4,
 "nbformat_minor": 2
}
