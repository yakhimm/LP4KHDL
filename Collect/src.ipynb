{
 "cells": [
  {
   "cell_type": "markdown",
   "metadata": {},
   "source": [
    "# THU THẬP DỮ LIỆU\n",
    "- Để tiến hành thu thập dữ liệu, như đã nêu ở trên, các input có sự khác nhau nên ta phải tìm input khác.\n",
    "- Sau đó ta sẽ tiến hành thu thập dữ liệu và đưa về thành 1 data duy nhất (từ 4 input ta sẽ đưa về thành 1 input để tiền xử lý)\n",
    "- Ta sẽ thực hiện theo các bước sau:\n",
    "    - Bước 1: Đọc file input của 4 năm \n",
    "    - Bước 2: Xóa các cột dư thừa \n",
    "    - Bước 3: Thêm một cột mới để định danh cho file đó\n",
    "    - Bước 4: Nối các dữ liệu lại với nhau và xuất thành 1 file csv mới."
   ]
  },
  {
   "cell_type": "markdown",
   "metadata": {},
   "source": [
    "Cùng làm thôi..."
   ]
  },
  {
   "cell_type": "code",
   "execution_count": 8,
   "metadata": {},
   "outputs": [],
   "source": [
    "import pandas as pd\n",
    "import numpy as np\n",
    "import warnings"
   ]
  },
  {
   "cell_type": "markdown",
   "metadata": {},
   "source": [
    "## Bước 1:\n",
    "- Chúng ta sẽ đọc từng file dữ liệu đã có sẵn.\n",
    "- Các file được đặt trong thư mục: ./score_college_exam_data\n",
    "- Các file sẽ có tên theo định dạng: <năm lấy dữ liệu>.csv\n",
    "- Sau khi đọc, chúng ta lưu data dưới dạng một DataFrame có tên là year_<năm>_df"
   ]
  },
  {
   "cell_type": "code",
   "execution_count": 9,
   "metadata": {},
   "outputs": [],
   "source": [
    "# shape = (n, 10) // n dòng, 10 cột là shape đúng\n",
    "path = '../../score_college_exam_data/'\n",
    "\n",
    "with warnings.catch_warnings():\n",
    "    warnings.simplefilter(\"ignore\")\n",
    "    filepath_2019 = path + '2019.csv'\n",
    "    year_2019_df = pd.read_csv(filepath_2019)\n",
    "\n",
    "    filepath_2020_2021 = path + '2020_2021.csv'\n",
    "    year_2020_2021_df = pd.read_csv(filepath_2020_2021)\n",
    "\n",
    "    filepath_2022 = path + '2022.csv'\n",
    "    year_2022_df = pd.read_csv(filepath_2022)"
   ]
  },
  {
   "cell_type": "markdown",
   "metadata": {},
   "source": [
    "## Bước 2:\n",
    "- Xóa dữ liệu là các cột của df sao cho mỗi df có shape là (n, 10)"
   ]
  },
  {
   "cell_type": "code",
   "execution_count": 10,
   "metadata": {},
   "outputs": [],
   "source": [
    "def drop_col(df, key):\n",
    "    if df.shape[1] != 10:\n",
    "        result = df.drop(df.keys()[key], axis = 1)\n",
    "    else:\n",
    "        return df\n",
    "    return result\n",
    "\n",
    "# Năm 2019:\n",
    "del_col_2019 = [0, 5]\n",
    "del_col_2020_2021 = [1, 2, 3, 14, 15]\n",
    "\n",
    "year_2019_df = drop_col(year_2019_df, del_col_2019)\n",
    "year_2020_2021_df = drop_col(year_2020_2021_df, del_col_2020_2021)"
   ]
  },
  {
   "cell_type": "markdown",
   "metadata": {},
   "source": [
    "- Sau khi xóa các cột dư thừa thì ta sẽ sắp xếp các cột dữ liệu theo dạng chuẩn (tự quy định)"
   ]
  },
  {
   "cell_type": "code",
   "execution_count": 11,
   "metadata": {},
   "outputs": [],
   "source": [
    "key_true = ['sbd', 'Toan', 'Van', 'Ngoai_ngu', 'Li', 'Hoa', 'Sinh', 'Su', 'Dia', 'GDCD']\n",
    "key_2020_2021_true = ['Year', 'SBD', 'Toán', 'Văn', 'Ngoại Ngữ',\n",
    "                      'Lý', 'Hoá', 'Sinh', 'Lịch Sử', 'Địa Lý', 'GDCD']\n",
    "\n",
    "year_2019_df = year_2019_df[key_true]\n",
    "year_2020_2021_df = year_2020_2021_df[key_2020_2021_true]"
   ]
  },
  {
   "cell_type": "markdown",
   "metadata": {},
   "source": [
    "- Format các dữ liệu khác khi có tên cột chưa chuẩn (Để khi nối cột sẽ không bị thay đổi chiều dữ liệu)."
   ]
  },
  {
   "cell_type": "code",
   "execution_count": 12,
   "metadata": {},
   "outputs": [],
   "source": [
    "key_true = ['Year', 'sbd', 'Toan', 'Van', 'Ngoai_ngu', 'Li', 'Hoa', 'Sinh', 'Su', 'Dia', 'GDCD']\n",
    "year_2020_2021_df.columns = key_true"
   ]
  },
  {
   "cell_type": "markdown",
   "metadata": {},
   "source": [
    "## Bước 3:\n",
    "Để phân biệt giữa các năm thì chúng ta sẽ thêm 1 cột mới vào year_<năm>_df với tên cột là 'year', đặt ở vị trí đầu của df và dữ liệu là năm đó. "
   ]
  },
  {
   "cell_type": "code",
   "execution_count": 13,
   "metadata": {},
   "outputs": [],
   "source": [
    "def add_year_to_data(df, year):\n",
    "    col = np.repeat(year, (df.shape[0]))\n",
    "    if 'Year' not in df.keys():\n",
    "        df.insert(0, 'Year', col, True)\n",
    "    return df\n",
    "    \n",
    "year_2019_df = add_year_to_data(year_2019_df, 2019)\n",
    "year_2022_df = add_year_to_data(year_2022_df, 2022)\n",
    "year_2022_df.columns = key_true"
   ]
  },
  {
   "cell_type": "markdown",
   "metadata": {},
   "source": [
    "## Bước 4:\n",
    "- Nối các year_<năm>_df thành một df chứa dữ liệu của 4 năm từ 2019 đến 2022\n",
    "- Sau đó viết dữ liệu ra một file csv mới lưu với tên là score_college_exam_data.csv "
   ]
  },
  {
   "cell_type": "code",
   "execution_count": 14,
   "metadata": {},
   "outputs": [],
   "source": [
    "concatenate_df = pd.concat([year_2019_df, year_2020_2021_df, year_2022_df], axis = 0)\n",
    "concatenate_df.to_csv('../../score_college_exam_data/score_college_exam_data.csv')"
   ]
  }
 ],
 "metadata": {
  "kernelspec": {
   "display_name": "Python 3.10.8 64-bit (microsoft store)",
   "language": "python",
   "name": "python3"
  },
  "language_info": {
   "codemirror_mode": {
    "name": "ipython",
    "version": 3
   },
   "file_extension": ".py",
   "mimetype": "text/x-python",
   "name": "python",
   "nbconvert_exporter": "python",
   "pygments_lexer": "ipython3",
   "version": "3.10.8"
  },
  "orig_nbformat": 4,
  "vscode": {
   "interpreter": {
    "hash": "65a440aeac0c89e2af7569e0aa53b64434c4b69eb6285e2b0d174d9bca190d54"
   }
  }
 },
 "nbformat": 4,
 "nbformat_minor": 2
}
