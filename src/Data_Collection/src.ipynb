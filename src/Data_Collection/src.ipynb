{
 "cells": [
  {
   "cell_type": "markdown",
   "metadata": {},
   "source": [
    "# < NHÓM 05 > LẬP TRÌNH CHO KHOA HỌC DỮ LIỆU\n",
    "## 1. Hiểu dữ liệu\n",
    "- Dữ liệu chính là điểm thi đại học của các học sinh THPT.\n",
    "- Dữ liệu dòng: \n",
    "    - Ý nghĩa của mỗi dòng:\n",
    "    - Có vấn đề các dòng có ý nghĩa khác nhau không?\n",
    "- Dữ liệu cột:\n",
    "    - Ý nghĩa của mỗi cột:\n",
    "    - Mỗi cột hiện có kiểu dữ liệu là: \n",
    "    - Cột có kiểu dữ liệu không phù hợp, có thể xử lý tiếp không ?\n",
    "## 2. Thu thập dữ liệu:\n",
    "- Nguồn dữ liệu: từ một repo github\n",
    "- Dạng input đầu vào: file csv\n",
    "- Số lượng input đầu vào: 4 file csv\n",
    "- Sự khác nhau giữa các input: **Có file khác nhau về số cột** "
   ]
  },
  {
   "cell_type": "markdown",
   "metadata": {},
   "source": [
    "# THU THẬP DỮ LIỆU\n",
    "- Để tiến hành thu thập dữ liệu, như đã nêu ở trên, các input có sự khác nhau nên ta phải tìm input khác (ở đây input data 2021, 2022 là khác so với các input data còn lại).\n",
    "- Sau đó ta sẽ tiến hành thu thập dữ liệu và đưa về thành 1 data duy nhất (từ 4 input ta sẽ đưa về thành 1 input để tiền xử lý)\n",
    "- Ta sẽ thực hiện theo các bước sau:\n",
    "    - Bước 1: Đọc file input của 4 năm \n",
    "    - Bước 2: Xóa các cột dư thừa \n",
    "    - Bước 3: Thêm một cột mới để định danh cho file đó\n",
    "    - Bước 4: Nối các dữ liệu lại với nhau và xuất thành 1 file csv mới."
   ]
  },
  {
   "cell_type": "markdown",
   "metadata": {},
   "source": [
    "Cùng làm thôi..."
   ]
  },
  {
   "cell_type": "code",
   "execution_count": 1,
   "metadata": {},
   "outputs": [],
   "source": [
    "import pandas as pd\n",
    "import numpy as np"
   ]
  },
  {
   "cell_type": "markdown",
   "metadata": {},
   "source": [
    "## Bước 1:\n",
    "- Chúng ta sẽ đọc từng file dữ liệu đã có sẵn.\n",
    "- Các file được đặt trong thư mục: ./score_college_exam_data\n",
    "- Các file sẽ có tên theo định dạng: <năm lấy dữ liệu>.csv\n",
    "- Sau khi đọc, chúng ta lưu data dưới dạng một DataFrame có tên là year_<năm>_df"
   ]
  },
  {
   "cell_type": "code",
   "execution_count": 28,
   "metadata": {},
   "outputs": [
    {
     "data": {
      "text/html": [
       "<div>\n",
       "<style scoped>\n",
       "    .dataframe tbody tr th:only-of-type {\n",
       "        vertical-align: middle;\n",
       "    }\n",
       "\n",
       "    .dataframe tbody tr th {\n",
       "        vertical-align: top;\n",
       "    }\n",
       "\n",
       "    .dataframe thead th {\n",
       "        text-align: right;\n",
       "    }\n",
       "</style>\n",
       "<table border=\"1\" class=\"dataframe\">\n",
       "  <thead>\n",
       "    <tr style=\"text-align: right;\">\n",
       "      <th></th>\n",
       "      <th>Unnamed: 0</th>\n",
       "      <th>Dia</th>\n",
       "      <th>GDCD</th>\n",
       "      <th>Hoa</th>\n",
       "      <th>Li</th>\n",
       "      <th>Ma_mon_ngoai_ngu</th>\n",
       "      <th>Ngoai_ngu</th>\n",
       "      <th>Sinh</th>\n",
       "      <th>Su</th>\n",
       "      <th>Toan</th>\n",
       "      <th>Van</th>\n",
       "      <th>sbd</th>\n",
       "    </tr>\n",
       "  </thead>\n",
       "  <tbody>\n",
       "    <tr>\n",
       "      <th>0</th>\n",
       "      <td>0</td>\n",
       "      <td>7.75</td>\n",
       "      <td>8.75</td>\n",
       "      <td>NaN</td>\n",
       "      <td>NaN</td>\n",
       "      <td>N1</td>\n",
       "      <td>7.6</td>\n",
       "      <td>NaN</td>\n",
       "      <td>8.25</td>\n",
       "      <td>8.2</td>\n",
       "      <td>8.00</td>\n",
       "      <td>24008611</td>\n",
       "    </tr>\n",
       "    <tr>\n",
       "      <th>1</th>\n",
       "      <td>1</td>\n",
       "      <td>NaN</td>\n",
       "      <td>NaN</td>\n",
       "      <td>4.5</td>\n",
       "      <td>8.25</td>\n",
       "      <td>N1</td>\n",
       "      <td>8.0</td>\n",
       "      <td>6.00</td>\n",
       "      <td>NaN</td>\n",
       "      <td>8.6</td>\n",
       "      <td>6.17</td>\n",
       "      <td>51000032</td>\n",
       "    </tr>\n",
       "    <tr>\n",
       "      <th>2</th>\n",
       "      <td>2</td>\n",
       "      <td>4.25</td>\n",
       "      <td>5.75</td>\n",
       "      <td>NaN</td>\n",
       "      <td>NaN</td>\n",
       "      <td>NaN</td>\n",
       "      <td>NaN</td>\n",
       "      <td>NaN</td>\n",
       "      <td>4.00</td>\n",
       "      <td>5.2</td>\n",
       "      <td>4.75</td>\n",
       "      <td>51000005</td>\n",
       "    </tr>\n",
       "    <tr>\n",
       "      <th>3</th>\n",
       "      <td>3</td>\n",
       "      <td>4.75</td>\n",
       "      <td>5.00</td>\n",
       "      <td>NaN</td>\n",
       "      <td>NaN</td>\n",
       "      <td>NaN</td>\n",
       "      <td>NaN</td>\n",
       "      <td>NaN</td>\n",
       "      <td>2.25</td>\n",
       "      <td>4.4</td>\n",
       "      <td>4.50</td>\n",
       "      <td>51000021</td>\n",
       "    </tr>\n",
       "    <tr>\n",
       "      <th>4</th>\n",
       "      <td>4</td>\n",
       "      <td>8.25</td>\n",
       "      <td>7.50</td>\n",
       "      <td>NaN</td>\n",
       "      <td>NaN</td>\n",
       "      <td>N1</td>\n",
       "      <td>4.4</td>\n",
       "      <td>NaN</td>\n",
       "      <td>7.75</td>\n",
       "      <td>5.8</td>\n",
       "      <td>6.00</td>\n",
       "      <td>51000013</td>\n",
       "    </tr>\n",
       "    <tr>\n",
       "      <th>...</th>\n",
       "      <td>...</td>\n",
       "      <td>...</td>\n",
       "      <td>...</td>\n",
       "      <td>...</td>\n",
       "      <td>...</td>\n",
       "      <td>...</td>\n",
       "      <td>...</td>\n",
       "      <td>...</td>\n",
       "      <td>...</td>\n",
       "      <td>...</td>\n",
       "      <td>...</td>\n",
       "      <td>...</td>\n",
       "    </tr>\n",
       "    <tr>\n",
       "      <th>811846</th>\n",
       "      <td>811846</td>\n",
       "      <td>5.75</td>\n",
       "      <td>8.50</td>\n",
       "      <td>NaN</td>\n",
       "      <td>NaN</td>\n",
       "      <td>N1</td>\n",
       "      <td>3.4</td>\n",
       "      <td>NaN</td>\n",
       "      <td>4.50</td>\n",
       "      <td>4.4</td>\n",
       "      <td>4.75</td>\n",
       "      <td>26019104</td>\n",
       "    </tr>\n",
       "    <tr>\n",
       "      <th>811847</th>\n",
       "      <td>811847</td>\n",
       "      <td>NaN</td>\n",
       "      <td>NaN</td>\n",
       "      <td>4.5</td>\n",
       "      <td>3.75</td>\n",
       "      <td>N1</td>\n",
       "      <td>4.4</td>\n",
       "      <td>4.00</td>\n",
       "      <td>NaN</td>\n",
       "      <td>5.2</td>\n",
       "      <td>6.25</td>\n",
       "      <td>26019102</td>\n",
       "    </tr>\n",
       "    <tr>\n",
       "      <th>811848</th>\n",
       "      <td>811848</td>\n",
       "      <td>5.50</td>\n",
       "      <td>8.00</td>\n",
       "      <td>NaN</td>\n",
       "      <td>NaN</td>\n",
       "      <td>N1</td>\n",
       "      <td>2.8</td>\n",
       "      <td>NaN</td>\n",
       "      <td>5.50</td>\n",
       "      <td>2.8</td>\n",
       "      <td>5.00</td>\n",
       "      <td>26019099</td>\n",
       "    </tr>\n",
       "    <tr>\n",
       "      <th>811849</th>\n",
       "      <td>811849</td>\n",
       "      <td>6.75</td>\n",
       "      <td>8.50</td>\n",
       "      <td>NaN</td>\n",
       "      <td>NaN</td>\n",
       "      <td>N1</td>\n",
       "      <td>4.0</td>\n",
       "      <td>NaN</td>\n",
       "      <td>3.50</td>\n",
       "      <td>6.2</td>\n",
       "      <td>7.25</td>\n",
       "      <td>26019101</td>\n",
       "    </tr>\n",
       "    <tr>\n",
       "      <th>811850</th>\n",
       "      <td>811850</td>\n",
       "      <td>NaN</td>\n",
       "      <td>NaN</td>\n",
       "      <td>4.5</td>\n",
       "      <td>5.25</td>\n",
       "      <td>N1</td>\n",
       "      <td>2.2</td>\n",
       "      <td>3.75</td>\n",
       "      <td>NaN</td>\n",
       "      <td>6.4</td>\n",
       "      <td>5.75</td>\n",
       "      <td>26019097</td>\n",
       "    </tr>\n",
       "  </tbody>\n",
       "</table>\n",
       "<p>811851 rows × 12 columns</p>\n",
       "</div>"
      ],
      "text/plain": [
       "        Unnamed: 0   Dia  GDCD  Hoa    Li Ma_mon_ngoai_ngu  Ngoai_ngu  Sinh  \\\n",
       "0                0  7.75  8.75  NaN   NaN               N1        7.6   NaN   \n",
       "1                1   NaN   NaN  4.5  8.25               N1        8.0  6.00   \n",
       "2                2  4.25  5.75  NaN   NaN              NaN        NaN   NaN   \n",
       "3                3  4.75  5.00  NaN   NaN              NaN        NaN   NaN   \n",
       "4                4  8.25  7.50  NaN   NaN               N1        4.4   NaN   \n",
       "...            ...   ...   ...  ...   ...              ...        ...   ...   \n",
       "811846      811846  5.75  8.50  NaN   NaN               N1        3.4   NaN   \n",
       "811847      811847   NaN   NaN  4.5  3.75               N1        4.4  4.00   \n",
       "811848      811848  5.50  8.00  NaN   NaN               N1        2.8   NaN   \n",
       "811849      811849  6.75  8.50  NaN   NaN               N1        4.0   NaN   \n",
       "811850      811850   NaN   NaN  4.5  5.25               N1        2.2  3.75   \n",
       "\n",
       "          Su  Toan   Van       sbd  \n",
       "0       8.25   8.2  8.00  24008611  \n",
       "1        NaN   8.6  6.17  51000032  \n",
       "2       4.00   5.2  4.75  51000005  \n",
       "3       2.25   4.4  4.50  51000021  \n",
       "4       7.75   5.8  6.00  51000013  \n",
       "...      ...   ...   ...       ...  \n",
       "811846  4.50   4.4  4.75  26019104  \n",
       "811847   NaN   5.2  6.25  26019102  \n",
       "811848  5.50   2.8  5.00  26019099  \n",
       "811849  3.50   6.2  7.25  26019101  \n",
       "811850   NaN   6.4  5.75  26019097  \n",
       "\n",
       "[811851 rows x 12 columns]"
      ]
     },
     "execution_count": 28,
     "metadata": {},
     "output_type": "execute_result"
    }
   ],
   "source": [
    "# shape = (n, 10) // n dòng, 10 cột là shape đúng\n",
    "def open_data(year):\n",
    "    filepath = './score_college_exam_data/' + year + '.csv'\n",
    "    year_df = pd.read_csv(filepath)\n",
    "    return year_df\n",
    "\n",
    "year_2019_df = open_data('2019')\n",
    "year_2020_df = open_data('2020')\n",
    "year_2021_df = open_data('2021')\n",
    "year_2022_df = open_data('2022')"
   ]
  },
  {
   "cell_type": "markdown",
   "metadata": {},
   "source": [
    "## Bước 2:\n",
    "- Xóa dữ liệu là các cột của df sao cho mỗi df có shape là (n, 10)"
   ]
  },
  {
   "cell_type": "code",
   "execution_count": 4,
   "metadata": {},
   "outputs": [],
   "source": [
    "def drop_col(df, key):\n",
    "    if df.shape[1] != 10:\n",
    "        result = df.drop(df.keys()[key], axis = 1)\n",
    "    else:\n",
    "        return df\n",
    "    return result\n",
    "\n",
    "# Năm 2019:\n",
    "key_del = [0, 5]\n",
    "key_del_2021 = [0, 2, 9, 10, 14, 15, 16, 17, 18, 19]\n",
    "\n",
    "# year_2019_df.drop(key_del[:2], axis = 1)\n",
    "year_2019_df = drop_col(year_2019_df, key_del)\n",
    "year_2020_df = drop_col(year_2020_df, key_del)\n",
    "year_2021_df = drop_col(year_2021_df, key_del_2021)"
   ]
  },
  {
   "cell_type": "markdown",
   "metadata": {},
   "source": [
    "- Sau khi xóa các cột dư thừa thì ta sẽ sắp xếp các cột dữ liệu theo dạng chuẩn (tự quy định)"
   ]
  },
  {
   "cell_type": "code",
   "execution_count": 5,
   "metadata": {},
   "outputs": [],
   "source": [
    "key_truth = ['sbd', 'Toan', 'Van', 'Ngoai_ngu', 'Li', 'Hoa', 'Sinh', 'Su', 'Dia', 'GDCD']\n",
    "key_2021_truth = ['id', 'mathematics_score', 'literature_score', 'foreign_language_score',\n",
    "                 'physics_score', 'chemistry_score', 'biology_score',\n",
    "\t            'history_score', 'geography_score',\t'civic_education_score']\n",
    "\n",
    "year_2019_df = year_2019_df[key_truth]\n",
    "year_2020_df = year_2020_df[key_truth]\n",
    "year_2021_df = year_2021_df[key_2021_truth]"
   ]
  },
  {
   "cell_type": "markdown",
   "metadata": {},
   "source": [
    "- Format các dữ liệu khác khi có tên cột chưa chuẩn (Để khi nối cột sẽ không bị thay đổi chiều dữ liệu)."
   ]
  },
  {
   "cell_type": "code",
   "execution_count": 6,
   "metadata": {},
   "outputs": [],
   "source": [
    "year_2021_df.columns = key_truth\n",
    "year_2022_df.columns = key_truth"
   ]
  },
  {
   "cell_type": "markdown",
   "metadata": {},
   "source": [
    "## Bước 3:\n",
    "Để phân biệt giữa các năm thì chúng ta sẽ thêm 1 cột mới vào year_<năm>_df với tên cột là 'year', đặt ở vị trí đầu của df và dữ liệu là năm đó. "
   ]
  },
  {
   "cell_type": "code",
   "execution_count": 7,
   "metadata": {},
   "outputs": [],
   "source": [
    "def add_year_to_data(df, year):\n",
    "    col = np.repeat(year, (df.shape[0]))\n",
    "    if 'Year' not in df.keys():\n",
    "        df.insert(0, 'Year', col, True)\n",
    "    return df\n",
    "    \n",
    "year_2019_df = add_year_to_data(year_2019_df, 2019)\n",
    "year_2020_df = add_year_to_data(year_2020_df, 2020)\n",
    "year_2021_df = add_year_to_data(year_2021_df, 2021)\n",
    "year_2022_df = add_year_to_data(year_2022_df, 2022)"
   ]
  },
  {
   "cell_type": "markdown",
   "metadata": {},
   "source": [
    "## Bước 4:\n",
    "- Nối các year_<năm>_df thành một df chứa dữ liệu của 4 năm từ 2019 đến 2022\n",
    "- Sau đó viết dữ liệu ra một file csv mới lưu với tên là score_college_exam_data.csv "
   ]
  },
  {
   "cell_type": "code",
   "execution_count": 9,
   "metadata": {},
   "outputs": [],
   "source": [
    "concatenate_df = pd.concat([year_2019_df, year_2020_df, year_2021_df, year_2022_df], axis = 0)\n",
    "concatenate_df.to_csv('./score_college_exam_data/score_college_exam_data.csv')"
   ]
  },
  {
   "cell_type": "markdown",
   "metadata": {},
   "source": [
    "# Khám phá dữ liệu (đan xen với pha tiền xử lý dữ liệu)\n",
    "\n",
    "### Đọc dữ liệu từ tập tin \n",
    "\n",
    "Đọc dữ liệu từ file `score_college_exam_data.csv` và lưu vào DataFrame `core_df`."
   ]
  },
  {
   "cell_type": "code",
   "execution_count": 41,
   "metadata": {},
   "outputs": [
    {
     "data": {
      "text/html": [
       "<div>\n",
       "<style scoped>\n",
       "    .dataframe tbody tr th:only-of-type {\n",
       "        vertical-align: middle;\n",
       "    }\n",
       "\n",
       "    .dataframe tbody tr th {\n",
       "        vertical-align: top;\n",
       "    }\n",
       "\n",
       "    .dataframe thead th {\n",
       "        text-align: right;\n",
       "    }\n",
       "</style>\n",
       "<table border=\"1\" class=\"dataframe\">\n",
       "  <thead>\n",
       "    <tr style=\"text-align: right;\">\n",
       "      <th></th>\n",
       "      <th>Year</th>\n",
       "      <th>sbd</th>\n",
       "      <th>Toan</th>\n",
       "      <th>Van</th>\n",
       "      <th>Ngoai_ngu</th>\n",
       "      <th>Li</th>\n",
       "      <th>Hoa</th>\n",
       "      <th>Sinh</th>\n",
       "      <th>Su</th>\n",
       "      <th>Dia</th>\n",
       "      <th>GDCD</th>\n",
       "    </tr>\n",
       "  </thead>\n",
       "  <tbody>\n",
       "    <tr>\n",
       "      <th>0</th>\n",
       "      <td>2019</td>\n",
       "      <td>24008611</td>\n",
       "      <td>8.2</td>\n",
       "      <td>8.00</td>\n",
       "      <td>7.6</td>\n",
       "      <td>NaN</td>\n",
       "      <td>NaN</td>\n",
       "      <td>NaN</td>\n",
       "      <td>8.25</td>\n",
       "      <td>7.75</td>\n",
       "      <td>8.75</td>\n",
       "    </tr>\n",
       "    <tr>\n",
       "      <th>1</th>\n",
       "      <td>2019</td>\n",
       "      <td>51000032</td>\n",
       "      <td>8.6</td>\n",
       "      <td>6.17</td>\n",
       "      <td>8.0</td>\n",
       "      <td>8.25</td>\n",
       "      <td>4.5</td>\n",
       "      <td>6.0</td>\n",
       "      <td>NaN</td>\n",
       "      <td>NaN</td>\n",
       "      <td>NaN</td>\n",
       "    </tr>\n",
       "    <tr>\n",
       "      <th>2</th>\n",
       "      <td>2019</td>\n",
       "      <td>51000005</td>\n",
       "      <td>5.2</td>\n",
       "      <td>4.75</td>\n",
       "      <td>NaN</td>\n",
       "      <td>NaN</td>\n",
       "      <td>NaN</td>\n",
       "      <td>NaN</td>\n",
       "      <td>4.00</td>\n",
       "      <td>4.25</td>\n",
       "      <td>5.75</td>\n",
       "    </tr>\n",
       "    <tr>\n",
       "      <th>3</th>\n",
       "      <td>2019</td>\n",
       "      <td>51000021</td>\n",
       "      <td>4.4</td>\n",
       "      <td>4.50</td>\n",
       "      <td>NaN</td>\n",
       "      <td>NaN</td>\n",
       "      <td>NaN</td>\n",
       "      <td>NaN</td>\n",
       "      <td>2.25</td>\n",
       "      <td>4.75</td>\n",
       "      <td>5.00</td>\n",
       "    </tr>\n",
       "    <tr>\n",
       "      <th>4</th>\n",
       "      <td>2019</td>\n",
       "      <td>51000013</td>\n",
       "      <td>5.8</td>\n",
       "      <td>6.00</td>\n",
       "      <td>4.4</td>\n",
       "      <td>NaN</td>\n",
       "      <td>NaN</td>\n",
       "      <td>NaN</td>\n",
       "      <td>7.75</td>\n",
       "      <td>8.25</td>\n",
       "      <td>7.50</td>\n",
       "    </tr>\n",
       "  </tbody>\n",
       "</table>\n",
       "</div>"
      ],
      "text/plain": [
       "   Year       sbd  Toan   Van  Ngoai_ngu    Li  Hoa  Sinh    Su   Dia  GDCD\n",
       "0  2019  24008611   8.2  8.00        7.6   NaN  NaN   NaN  8.25  7.75  8.75\n",
       "1  2019  51000032   8.6  6.17        8.0  8.25  4.5   6.0   NaN   NaN   NaN\n",
       "2  2019  51000005   5.2  4.75        NaN   NaN  NaN   NaN  4.00  4.25  5.75\n",
       "3  2019  51000021   4.4  4.50        NaN   NaN  NaN   NaN  2.25  4.75  5.00\n",
       "4  2019  51000013   5.8  6.00        4.4   NaN  NaN   NaN  7.75  8.25  7.50"
      ]
     },
     "execution_count": 41,
     "metadata": {},
     "output_type": "execute_result"
    }
   ],
   "source": [
    "core_df = pd.read_csv('./score_college_exam_data/score_college_exam_data.csv', index_col= \"Unnamed: 0\")\n",
    "core_df.head()"
   ]
  },
  {
   "cell_type": "markdown",
   "metadata": {},
   "source": [
    "### Dữ liệu có bao nhiêu dòng và bao nhiêu cột?\n",
    "\n",
    "Ta tính số dòng và số cột của DataFrame `core_df` và lưu vào biến `shape` (tuple). "
   ]
  },
  {
   "cell_type": "code",
   "execution_count": 36,
   "metadata": {},
   "outputs": [
    {
     "data": {
      "text/plain": [
       "(3673159, 12)"
      ]
     },
     "execution_count": 36,
     "metadata": {},
     "output_type": "execute_result"
    }
   ],
   "source": [
    "shape = core_df.shape\n",
    "shape"
   ]
  },
  {
   "cell_type": "markdown",
   "metadata": {},
   "source": [
    "### Mỗi dòng có ý nghĩa gì? Có vấn đề các dòng có ý nghĩa khác nhau không?\n",
    "\n",
    "Mỗi dòng trong DataFrame `core_df` cho biết kết quả điểm thi đại học của học sinh Việt Nam từ năm 2019 đến năm 2022. Có vẻ không có vấn đề các dòng có ý nghĩa khác nhau (lúc sau, nếu phát hiện ra vấn đề thì ta sẽ quay lại đây). \n",
    "\n",
    "### Dữ liệu có các dòng bị lặp không?"
   ]
  },
  {
   "cell_type": "code",
   "execution_count": 40,
   "metadata": {},
   "outputs": [
    {
     "name": "stdout",
     "output_type": "stream",
     "text": [
      "Dữ liệu không bị lặp\n"
     ]
    }
   ],
   "source": [
    "id = list(core_df.index)\n",
    "num_duplicated_rows = len(id)-len(set(id))\n",
    "if(num_duplicated_rows == 0):\n",
    "    print(\"Dữ liệu không bị lặp\")\n",
    "else: \n",
    "    print(\"Dữ liệu bị lặp \" + str(id) + \" dòng\")"
   ]
  },
  {
   "cell_type": "markdown",
   "metadata": {},
   "source": [
    "## Mỗi cột có ý nghĩa gì?\n",
    "\n",
    "- **Year** là năm thi của thí sinh\n",
    "\n",
    "- **sbd** là số báo danh của thí sinh\n",
    "\n",
    "- Các cột còn lại là điểm thi theo các môn của các thí sinh. Những giá trị NaN là môn mà thí sinh đó không tham gia thi.\n"
   ]
  },
  {
   "cell_type": "code",
   "execution_count": 44,
   "metadata": {},
   "outputs": [
    {
     "data": {
      "text/plain": [
       "Index(['Year', 'sbd', 'Toan', 'Van', 'Ngoai_ngu', 'Li', 'Hoa', 'Sinh', 'Su',\n",
       "       'Dia', 'GDCD'],\n",
       "      dtype='object')"
      ]
     },
     "execution_count": 44,
     "metadata": {},
     "output_type": "execute_result"
    }
   ],
   "source": [
    "core_df.columns"
   ]
  },
  {
   "cell_type": "markdown",
   "metadata": {},
   "source": [
    "\n",
    "### Mỗi cột hiện đang có kiểu dữ liệu gì? Có cột nào có kiểu dữ liệu chưa phù hợp để có thể xử lý tiếp không?"
   ]
  },
  {
   "cell_type": "code",
   "execution_count": 42,
   "metadata": {},
   "outputs": [
    {
     "name": "stdout",
     "output_type": "stream",
     "text": [
      "<class 'pandas.core.frame.DataFrame'>\n",
      "Int64Index: 3673159 entries, 0 to 995440\n",
      "Data columns (total 11 columns):\n",
      " #   Column     Dtype  \n",
      "---  ------     -----  \n",
      " 0   Year       int64  \n",
      " 1   sbd        int64  \n",
      " 2   Toan       float64\n",
      " 3   Van        float64\n",
      " 4   Ngoai_ngu  float64\n",
      " 5   Li         float64\n",
      " 6   Hoa        float64\n",
      " 7   Sinh       float64\n",
      " 8   Su         float64\n",
      " 9   Dia        float64\n",
      " 10  GDCD       float64\n",
      "dtypes: float64(9), int64(2)\n",
      "memory usage: 336.3 MB\n"
     ]
    }
   ],
   "source": [
    "core_df.info()"
   ]
  },
  {
   "cell_type": "markdown",
   "metadata": {},
   "source": [
    "Các cột đều có dạng `numeric` và đều phù hợp nên không cần xử lý kiểu dữ liệu của các cột nữa."
   ]
  },
  {
   "cell_type": "markdown",
   "metadata": {},
   "source": [
    "### Với mỗi cột có kiểu dữ liệu dạng số, các giá trị được phân bố như thế nào?\n",
    "\n",
    "Với các cột điểm, Ta sẽ tính:\n",
    "- Tỉ lệ % (từ 0 đến 100) các giá trị thiếu \n",
    "- Giá trị min\n",
    "- Giá trị lower quartile (phân vị 25)\n",
    "- Giá trị median (phân vị 50)\n",
    "- Giá trị upper quartile (phân vị 75)\n",
    "- Giá trị max\n",
    "\n",
    "\n",
    "Bạn sẽ lưu kết quả vào DataFrame `num_col_info_df`, trong đó: \n",
    "- Tên của các cột là tên của các cột điểm trong `core_df`\n",
    "- Tên của các dòng là: \"missing_ratio\", \"min\", \"lower_quartile\", \"median\", \"upper_quartile\", \"max\"\n",
    "\n",
    "Để dễ nhìn, tất cả các giá trị ta đều làm tròn với 1 chữ số thập phân bằng phương thức `.round(1)`."
   ]
  },
  {
   "cell_type": "code",
   "execution_count": 53,
   "metadata": {},
   "outputs": [
    {
     "data": {
      "text/html": [
       "<div>\n",
       "<style scoped>\n",
       "    .dataframe tbody tr th:only-of-type {\n",
       "        vertical-align: middle;\n",
       "    }\n",
       "\n",
       "    .dataframe tbody tr th {\n",
       "        vertical-align: top;\n",
       "    }\n",
       "\n",
       "    .dataframe thead th {\n",
       "        text-align: right;\n",
       "    }\n",
       "</style>\n",
       "<table border=\"1\" class=\"dataframe\">\n",
       "  <thead>\n",
       "    <tr style=\"text-align: right;\">\n",
       "      <th></th>\n",
       "      <th>Toan</th>\n",
       "      <th>Van</th>\n",
       "      <th>Ngoai_ngu</th>\n",
       "      <th>Li</th>\n",
       "      <th>Hoa</th>\n",
       "      <th>Sinh</th>\n",
       "      <th>Su</th>\n",
       "      <th>Dia</th>\n",
       "      <th>GDCD</th>\n",
       "    </tr>\n",
       "  </thead>\n",
       "  <tbody>\n",
       "    <tr>\n",
       "      <th>missing_ratio</th>\n",
       "      <td>0.9</td>\n",
       "      <td>1.5</td>\n",
       "      <td>11.7</td>\n",
       "      <td>66.3</td>\n",
       "      <td>66.1</td>\n",
       "      <td>66.6</td>\n",
       "      <td>33.8</td>\n",
       "      <td>34.5</td>\n",
       "      <td>43.8</td>\n",
       "    </tr>\n",
       "    <tr>\n",
       "      <th>min</th>\n",
       "      <td>0.0</td>\n",
       "      <td>0.0</td>\n",
       "      <td>0.0</td>\n",
       "      <td>0.0</td>\n",
       "      <td>0.0</td>\n",
       "      <td>0.0</td>\n",
       "      <td>0.0</td>\n",
       "      <td>0.0</td>\n",
       "      <td>0.0</td>\n",
       "    </tr>\n",
       "    <tr>\n",
       "      <th>lower_quartile</th>\n",
       "      <td>5.0</td>\n",
       "      <td>5.5</td>\n",
       "      <td>3.4</td>\n",
       "      <td>5.5</td>\n",
       "      <td>5.2</td>\n",
       "      <td>4.0</td>\n",
       "      <td>4.2</td>\n",
       "      <td>5.8</td>\n",
       "      <td>7.2</td>\n",
       "    </tr>\n",
       "    <tr>\n",
       "      <th>median</th>\n",
       "      <td>6.6</td>\n",
       "      <td>6.5</td>\n",
       "      <td>4.4</td>\n",
       "      <td>6.8</td>\n",
       "      <td>6.5</td>\n",
       "      <td>5.0</td>\n",
       "      <td>5.5</td>\n",
       "      <td>6.5</td>\n",
       "      <td>8.0</td>\n",
       "    </tr>\n",
       "    <tr>\n",
       "      <th>upper_quartile</th>\n",
       "      <td>7.8</td>\n",
       "      <td>7.2</td>\n",
       "      <td>6.0</td>\n",
       "      <td>7.8</td>\n",
       "      <td>7.8</td>\n",
       "      <td>6.0</td>\n",
       "      <td>7.0</td>\n",
       "      <td>7.5</td>\n",
       "      <td>8.8</td>\n",
       "    </tr>\n",
       "    <tr>\n",
       "      <th>max</th>\n",
       "      <td>10.0</td>\n",
       "      <td>10.0</td>\n",
       "      <td>10.0</td>\n",
       "      <td>10.0</td>\n",
       "      <td>10.0</td>\n",
       "      <td>10.0</td>\n",
       "      <td>10.0</td>\n",
       "      <td>10.0</td>\n",
       "      <td>10.0</td>\n",
       "    </tr>\n",
       "  </tbody>\n",
       "</table>\n",
       "</div>"
      ],
      "text/plain": [
       "                Toan   Van  Ngoai_ngu    Li   Hoa  Sinh    Su   Dia  GDCD\n",
       "missing_ratio    0.9   1.5       11.7  66.3  66.1  66.6  33.8  34.5  43.8\n",
       "min              0.0   0.0        0.0   0.0   0.0   0.0   0.0   0.0   0.0\n",
       "lower_quartile   5.0   5.5        3.4   5.5   5.2   4.0   4.2   5.8   7.2\n",
       "median           6.6   6.5        4.4   6.8   6.5   5.0   5.5   6.5   8.0\n",
       "upper_quartile   7.8   7.2        6.0   7.8   7.8   6.0   7.0   7.5   8.8\n",
       "max             10.0  10.0       10.0  10.0  10.0  10.0  10.0  10.0  10.0"
      ]
     },
     "execution_count": 53,
     "metadata": {},
     "output_type": "execute_result"
    }
   ],
   "source": [
    "def get(col):\n",
    "    NaNValue = col.isna().sum()\n",
    "    valu1 = col.dropna()\n",
    "    x = []\n",
    "    x.append((NaNValue/len(col))*100)\n",
    "    x.append(np.percentile(valu1, 0))\n",
    "    x.append(np.percentile(valu1, 25))\n",
    "    x.append(np.percentile(valu1, 50))\n",
    "    x.append(np.percentile(valu1, 75))\n",
    "    x.append(np.percentile(valu1, 100))\n",
    "    return np.array(x).round(1)\n",
    "\n",
    "index_info=[\"missing_ratio\", \"min\", \"lower_quartile\", \"median\", \"upper_quartile\", \"max\"]\n",
    "dict_info = {}\n",
    "for i in core_df.columns:\n",
    "    if core_df[i].dtype in [np.float32, np.float64]:\n",
    "        dict_info[i] = get(core_df[i])   \n",
    "num_col_info_df =pd.DataFrame(dict_info,index_info)\n",
    "num_col_info_df"
   ]
  }
 ],
 "metadata": {
  "kernelspec": {
   "display_name": "Python 3.10.1 64-bit",
   "language": "python",
   "name": "python3"
  },
  "language_info": {
   "codemirror_mode": {
    "name": "ipython",
    "version": 3
   },
   "file_extension": ".py",
   "mimetype": "text/x-python",
   "name": "python",
   "nbconvert_exporter": "python",
   "pygments_lexer": "ipython3",
   "version": "3.10.1"
  },
  "orig_nbformat": 4,
  "vscode": {
   "interpreter": {
    "hash": "ed0ce04feb4c94c8729c0d2db7516cd28c11b34e1cf081407dfe9884dd30efc8"
   }
  }
 },
 "nbformat": 4,
 "nbformat_minor": 2
}
